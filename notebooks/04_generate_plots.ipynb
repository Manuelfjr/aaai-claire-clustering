{
 "cells": [
  {
   "cell_type": "markdown",
   "id": "7384b082",
   "metadata": {},
   "source": [
    "## Imports"
   ]
  },
  {
   "cell_type": "code",
   "execution_count": null,
   "id": "a169a052",
   "metadata": {},
   "outputs": [],
   "source": [
    "# utils\n",
    "import os\n",
    "import sys\n",
    "from pathlib import Path\n",
    "PROJECT_DIR = Path.cwd().parent\n",
    "sys.path.append(str(PROJECT_DIR))\n",
    "\n",
    "# basics\n",
    "import numpy as np\n",
    "import pandas as pd\n",
    "from tqdm import tqdm\n",
    "\n",
    "# viz\n",
    "import matplotlib.pyplot as plt\n",
    "import seaborn as sns\n",
    "\n",
    "# metrics\n",
    "from utils import config\n",
    "from utils.reader import read_file_yaml\n",
    "from utils.plot.plot import GeneratePlots\n",
    "from utils.utils import set_params\n",
    "\n",
    "np.random.seed(0)"
   ]
  },
  {
   "cell_type": "markdown",
   "id": "5fc812b3",
   "metadata": {},
   "source": [
    "## Reading datasets"
   ]
  },
  {
   "cell_type": "code",
   "execution_count": null,
   "id": "b7ba2098",
   "metadata": {},
   "outputs": [],
   "source": [
    "path_outputs_url = (\n",
    "    PROJECT_DIR\n",
    "    / \"outputs\"\n",
    ")\n",
    "path_results_url = (\n",
    "    PROJECT_DIR\n",
    "    / \"results\"\n",
    ")\n",
    "path_data_url = (\n",
    "    PROJECT_DIR\n",
    "    / \"data\"\n",
    ")\n",
    "file_path_parameters = (\n",
    "    PROJECT_DIR\n",
    "    / \"conf\" \n",
    "    / \"parameters.yml\"\n",
    ")\n",
    "params = read_file_yaml(file_path_parameters)\n",
    "\n",
    "n_random = np.sort([int(i.replace(\"random_n\",\"\"))for i in os.listdir(path_results_url) if \".placehold\"not in i])\n",
    "path_random = [\n",
    "    \"random_n\"+str(i) for i in n_random\n",
    "]\n",
    "path_results = [path_outputs_url / i for i in path_random]"
   ]
  },
  {
   "cell_type": "code",
   "execution_count": null,
   "id": "d985da68",
   "metadata": {},
   "outputs": [],
   "source": [
    "path_data = {\n",
    "    i: path_data_url / i for i in config.file_names\n",
    "}\n",
    "path_params = {\n",
    "    i: {\n",
    "        j: path_results_url / i / j / \"params\" for j in config.file_names\n",
    "    } for i in path_random\n",
    "}"
   ]
  },
  {
   "cell_type": "code",
   "execution_count": null,
   "id": "a86a9c1b",
   "metadata": {},
   "outputs": [],
   "source": [
    "data = {\n",
    "    i_name: pd.read_csv( i_url / Path(i_name + \".csv\")) for i_name, i_url in path_data.items()\n",
    "}"
   ]
  },
  {
   "cell_type": "code",
   "execution_count": null,
   "id": "60538f6d",
   "metadata": {
    "scrolled": true
   },
   "outputs": [],
   "source": [
    "params = {}\n",
    "for i_random, i_content in path_params.items():\n",
    "    params[i_random] = {}\n",
    "    for j_name, j_content in i_content.items():\n",
    "        params[i_random][j_name] = {}\n",
    "        for which in [\"abilities\", \"diff_disc\"]:\n",
    "            try:\n",
    "                params[i_random][j_name][which] = pd.read_csv(j_content / Path(which+\".csv\"), index_col = 0)\n",
    "            except:\n",
    "                continue"
   ]
  },
  {
   "cell_type": "markdown",
   "id": "a85de679",
   "metadata": {},
   "source": [
    "## Plot of difficulties"
   ]
  },
  {
   "cell_type": "code",
   "execution_count": null,
   "id": "3faf9ad8",
   "metadata": {
    "lines_to_next_cell": 2
   },
   "outputs": [],
   "source": [
    "figs = {}\n",
    "for i_random, i_content in list(params.items()):\n",
    "    _plt_parameters = set_params(data, i_content)\n",
    "    gp = GeneratePlots(data = data)\n",
    "    fig, _ = gp.scatterplot_diff_disc(6, 2, plot_parameters=_plt_parameters)\n",
    "    figs[i_random] = fig\n",
    "    figs[i_random].savefig(path_outputs_url / Path(i_random + \"_\" + \"diff_disc_all.eps\"), format=\"eps\")"
   ]
  }
 ],
 "metadata": {
  "jupytext": {
   "cell_metadata_filter": "-all",
   "encoding": "# coding: utf-8",
   "executable": "/usr/bin/env python",
   "main_language": "python",
   "notebook_metadata_filter": "-all"
  },
  "kernelspec": {
   "display_name": "Python 3 (ipykernel)",
   "language": "python",
   "name": "python3"
  },
  "language_info": {
   "codemirror_mode": {
    "name": "ipython",
    "version": 3
   },
   "file_extension": ".py",
   "mimetype": "text/x-python",
   "name": "python",
   "nbconvert_exporter": "python",
   "pygments_lexer": "ipython3",
   "version": "3.10.11"
  }
 },
 "nbformat": 4,
 "nbformat_minor": 5
}
