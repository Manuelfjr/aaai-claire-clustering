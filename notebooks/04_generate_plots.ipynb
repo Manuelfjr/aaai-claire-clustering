{
 "cells": [
  {
   "cell_type": "markdown",
   "id": "7384b082",
   "metadata": {},
   "source": [
    "## Imports"
   ]
  },
  {
   "cell_type": "code",
   "execution_count": 1,
   "id": "a169a052",
   "metadata": {},
   "outputs": [],
   "source": [
    "# utils\n",
    "import os\n",
    "import sys\n",
    "from pathlib import Path\n",
    "\n",
    "PROJECT_DIR = Path.cwd().parent\n",
    "sys.path.append(str(PROJECT_DIR))\n",
    "\n",
    "# basics\n",
    "import matplotlib.pyplot as plt\n",
    "import numpy as np\n",
    "import pandas as pd\n",
    "from tqdm import tqdm\n",
    "\n",
    "# metrics\n",
    "from utils import config\n",
    "from utils.plot.plot import GeneratePlots\n",
    "from utils.reader import read_file_yaml\n",
    "from utils.utils import get_last_modification_directory, set_params\n",
    "\n",
    "np.random.seed(0)"
   ]
  },
  {
   "cell_type": "markdown",
   "id": "5fc812b3",
   "metadata": {},
   "source": [
    "## Reading datasets"
   ]
  },
  {
   "cell_type": "code",
   "execution_count": 2,
   "id": "b7ba2098",
   "metadata": {},
   "outputs": [],
   "source": [
    "path_outputs_url = PROJECT_DIR / \"outputs\"\n",
    "path_data_url = PROJECT_DIR / \"data\"\n",
    "file_path_parameters = PROJECT_DIR / \"conf\" / \"parameters.yml\"\n",
    "parameters = read_file_yaml(file_path_parameters)\n",
    "path_results_url = PROJECT_DIR / parameters[\"results\"][\"filepath\"]\n",
    "\n",
    "n_random = np.sort(\n",
    "    [int(i.replace(\"random_n\", \"\")) for i in os.listdir(path_results_url) if \".placehold\" not in i]\n",
    ")\n",
    "path_random = [\"random_n\" + str(i) for i in n_random]\n",
    "path_results = [path_results_url / i for i in path_random]\n",
    "\n",
    "_, path_random = get_last_modification_directory(path_results, path_random, parameters)\n",
    "\n",
    "ext_type = parameters[\"outputs\"][\"extension_type\"]\n",
    "ext_local_img = parameters[\"outputs\"][\"extension_local_img\"]\n",
    "ext_best_img = parameters[\"outputs\"][\"extension_best_img\"]"
   ]
  },
  {
   "cell_type": "code",
   "execution_count": 3,
   "id": "d985da68",
   "metadata": {},
   "outputs": [],
   "source": [
    "path_data = {i: path_data_url / i for i in config.file_names}\n",
    "path_params = {i: {j: path_results_url / i / j / \"params\" for j in config.file_names} for i in path_random}"
   ]
  },
  {
   "cell_type": "code",
   "execution_count": 4,
   "id": "e511bf1c-1980-44e8-9786-dc4a71adf77c",
   "metadata": {},
   "outputs": [],
   "source": [
    "data = {\n",
    "    i_name: pd.read_csv(i_url / Path(i_name + f\"{ext_type}\"))\n",
    "    if f\"{i_name}_pca{ext_type}\" not in os.listdir(i_url)\n",
    "    else pd.read_csv(i_url / Path(i_name + \"_pca\" + ext_type))\n",
    "    for i_name, i_url in path_data.items()\n",
    "}"
   ]
  },
  {
   "cell_type": "code",
   "execution_count": 5,
   "id": "60538f6d",
   "metadata": {
    "scrolled": true
   },
   "outputs": [],
   "source": [
    "params = {}\n",
    "for i_random, i_content in path_params.items():\n",
    "    params[i_random] = {}\n",
    "    for j_name, j_content in i_content.items():\n",
    "        params[i_random][j_name] = {}\n",
    "        for which in [\"abilities\", \"diff_disc\"]:\n",
    "            try:\n",
    "                params[i_random][j_name][which] = pd.read_csv(j_content / Path(which + ext_type), index_col=0)\n",
    "            except Exception:\n",
    "                continue"
   ]
  },
  {
   "cell_type": "markdown",
   "id": "a85de679",
   "metadata": {},
   "source": [
    "## Plot of difficulties"
   ]
  },
  {
   "cell_type": "code",
   "execution_count": null,
   "id": "3faf9ad8",
   "metadata": {
    "lines_to_next_cell": 2,
    "scrolled": true
   },
   "outputs": [],
   "source": [
    "figs = {}\n",
    "for i_random, i_content in tqdm(list(params.items())):\n",
    "    _plt_parameters = set_params(data, i_content)\n",
    "    gp = GeneratePlots(data=data)\n",
    "    fig, _ = gp.scatterplot_diff_disc(\n",
    "        len(_plt_parameters.keys()), 2, plot_parameters=_plt_parameters, figsize=(20, len(config.file_names) + 12)\n",
    "    )\n",
    "    figs[i_random] = fig\n",
    "    plt.close()"
   ]
  },
  {
   "cell_type": "code",
   "execution_count": null,
   "id": "66f3b1e5-dbd5-490f-a3d2-f09a88d22096",
   "metadata": {},
   "outputs": [],
   "source": [
    "i_figs_unique = {}\n",
    "for i in tqdm(config.file_names):\n",
    "    i_figs_unique[i] = {}\n",
    "    for i_random, i_content in list(params.items()):\n",
    "        _plt_parameters = set_params({i: data[i]}, i_content)\n",
    "        gp = GeneratePlots(data={i: data[i]})\n",
    "        fig, _ = gp.scatterplot_diff_disc_unique(\n",
    "            1, 2, plot_parameters={i: _plt_parameters[i]}, figsize=(22, 7)\n",
    "        )\n",
    "        i_figs_unique[i][i_random] = fig\n",
    "        plt.close()"
   ]
  },
  {
   "cell_type": "code",
   "execution_count": 9,
   "id": "f93c093c-7475-4cd6-aa2f-276bd931b3bb",
   "metadata": {},
   "outputs": [],
   "source": [
    "# viz\n",
    "import matplotlib\n",
    "import matplotlib.pyplot as plt\n",
    "import numpy as np\n",
    "\n",
    "\n",
    "class GeneratePlots:\n",
    "    def __init__(self, pij=None, data=None):\n",
    "        self.pij = pij\n",
    "        self.data = data\n",
    "\n",
    "    def _scatterplot(self,\n",
    "                    nrows=1,\n",
    "                    ncols=1,\n",
    "                    figsize=(18, 18),\n",
    "                    plot_parameters=None,\n",
    "                    fontsize=20,\n",
    "                    xlabel=\"$pca_{(1)}$\", \n",
    "                    ylabel=\"$pca_{(2)}$\"):\n",
    "        _fig = {}\n",
    "        for which_param in plot_parameters:\n",
    "            (name, _, params) = which_param\n",
    "            fig, axes = plt.subplots(nrows, ncols, figsize=figsize)\n",
    "            points = axes.scatter(**params)\n",
    "            # axes.set_title(name)\n",
    "            axes.set_xlabel(xlabel, fontsize=fontsize)\n",
    "            axes.set_ylabel(ylabel, fontsize=fontsize)\n",
    "            fig.colorbar(points, ax=axes)\n",
    "            fig.tight_layout()\n",
    "            _fig[name] = fig\n",
    "            plt.close()\n",
    "        return _fig\n",
    "        \n",
    "    def scatterplot(self,\n",
    "                    nrows=1,\n",
    "                    ncols=1,\n",
    "                    figsize=(18, 18),\n",
    "                    plot_parameters=None,\n",
    "                    fontsize=20,\n",
    "                    xlabel=\"$pca_{(1)}$\", \n",
    "                    ylabel=\"$pca_{(2)}$\"):\n",
    "        _fig = {}\n",
    "        (name_diff, _, params_diff), (name_disc, _, params_disc)  = plot_parameters[0], plot_parameters[1] \n",
    "        params_diff[\"s\"] = ((params_disc[\"c\"] - params_disc[\"c\"].min())/(params_disc[\"c\"].max() - params_disc[\"c\"].min())) * 100\n",
    "        fig, axes = plt.subplots(nrows, ncols, figsize=figsize)\n",
    "        points = axes.scatter(**params_diff)\n",
    "        axes.set_xlabel(xlabel, fontsize=fontsize)\n",
    "        axes.set_ylabel(ylabel, fontsize=fontsize)\n",
    "        fig.colorbar(points, ax=axes)\n",
    "        fig.tight_layout()\n",
    "        _fig[name_diff] = fig\n",
    "        plt.close()\n",
    "        return _fig\n"
   ]
  },
  {
   "cell_type": "code",
   "execution_count": 18,
   "id": "97066e1e-ab00-47dd-968c-a533c663848f",
   "metadata": {
    "scrolled": true
   },
   "outputs": [
    {
     "name": "stderr",
     "output_type": "stream",
     "text": [
      "  0%|                                                                                                                                                                                        | 0/3 [00:00<?, ?it/s]"
     ]
    },
    {
     "name": "stdout",
     "output_type": "stream",
     "text": [
      "varied\n",
      "varied\n",
      "varied\n",
      "varied\n",
      "varied\n",
      "varied\n",
      "varied\n",
      "varied\n",
      "varied\n",
      "varied\n",
      "varied\n",
      "varied\n",
      "varied\n",
      "varied\n",
      "varied\n",
      "varied\n",
      "varied\n",
      "varied\n",
      "varied\n",
      "varied\n",
      "varied\n",
      "varied\n",
      "varied\n",
      "varied\n",
      "varied\n",
      "varied\n",
      "varied\n",
      "varied\n",
      "varied\n",
      "varied\n",
      "varied\n",
      "varied\n",
      "varied\n",
      "varied\n",
      "varied\n",
      "varied\n",
      "varied\n",
      "varied\n",
      "varied\n",
      "varied\n",
      "varied\n",
      "varied\n",
      "varied\n",
      "varied\n",
      "varied\n",
      "varied\n",
      "varied\n",
      "varied\n",
      "varied\n",
      "varied\n",
      "varied\n",
      "varied\n",
      "varied\n",
      "varied\n",
      "varied\n",
      "varied\n",
      "varied\n",
      "varied\n",
      "varied\n",
      "varied\n",
      "varied\n",
      "varied\n",
      "varied\n",
      "varied\n",
      "varied\n",
      "varied\n",
      "varied\n",
      "varied\n"
     ]
    },
    {
     "name": "stderr",
     "output_type": "stream",
     "text": [
      " 33%|██████████████████████████████████████████████████████████▋                                                                                                                     | 1/3 [00:04<00:09,  4.99s/it]"
     ]
    },
    {
     "name": "stdout",
     "output_type": "stream",
     "text": [
      "varied\n",
      "varied\n",
      "varied\n"
     ]
    },
    {
     "name": "stderr",
     "output_type": "stream",
     "text": [
      " 67%|█████████████████████████████████████████████████████████████████████████████████████████████████████████████████████▎                                                          | 2/3 [00:09<00:04,  4.83s/it]"
     ]
    },
    {
     "name": "stdout",
     "output_type": "stream",
     "text": [
      "aniso\n",
      "aniso\n",
      "aniso\n",
      "aniso\n",
      "aniso\n",
      "aniso\n",
      "aniso\n",
      "aniso\n",
      "aniso\n",
      "aniso\n",
      "aniso\n",
      "aniso\n",
      "aniso\n",
      "aniso\n",
      "aniso\n",
      "aniso\n",
      "aniso\n",
      "aniso\n",
      "aniso\n",
      "aniso\n",
      "aniso\n",
      "aniso\n",
      "aniso\n",
      "aniso\n",
      "aniso\n",
      "aniso\n",
      "aniso\n",
      "aniso\n",
      "aniso\n",
      "aniso\n",
      "aniso\n",
      "aniso\n",
      "aniso\n",
      "aniso\n",
      "aniso\n",
      "aniso\n",
      "aniso\n",
      "aniso\n",
      "aniso\n",
      "aniso\n",
      "aniso\n",
      "aniso\n",
      "aniso\n",
      "aniso\n",
      "aniso\n",
      "aniso\n",
      "aniso\n",
      "aniso\n",
      "aniso\n",
      "aniso\n",
      "aniso\n",
      "aniso\n",
      "aniso\n",
      "aniso\n",
      "aniso\n",
      "aniso\n",
      "aniso\n",
      "aniso\n",
      "aniso\n",
      "aniso\n",
      "aniso\n",
      "aniso\n",
      "aniso\n",
      "aniso\n",
      "aniso\n",
      "aniso\n",
      "aniso\n",
      "aniso\n",
      "aniso\n",
      "aniso\n",
      "aniso\n"
     ]
    },
    {
     "name": "stderr",
     "output_type": "stream",
     "text": [
      "100%|████████████████████████████████████████████████████████████████████████████████████████████████████████████████████████████████████████████████████████████████████████████████| 3/3 [00:13<00:00,  4.64s/it]\n"
     ]
    }
   ],
   "source": [
    "params_general = {\n",
    "    \"nrows\": 1,\n",
    "    \"ncols\": 1,\n",
    "    \"figsize\": (10,8),\n",
    "    \"fontsize\": 26\n",
    "}\n",
    "i_figs_unique_param = {}\n",
    "for i in tqdm([\"varied\", \"breast_cancer\", \"aniso\"]):#config.file_names):\n",
    "    i_figs_unique_param[i] = {}\n",
    "    for i_random, i_content in list(params.items()):\n",
    "        _plt_parameters = set_params({i: data[i]}, i_content)\n",
    "        gp = GeneratePlots(data={i: data[i]})\n",
    "        params_general.update({\"plot_parameters\": _plt_parameters[i]})\n",
    "        if i not in [\"wine\", \"iris\", \"breast_cancer\", \"diabetes\", \"digits\"]:\n",
    "            print(i)\n",
    "            params_general.update({\"xlabel\": r\"$x_{1}$\", \"ylabel\": r\"$x_{2}$\"})\n",
    "        fig = gp.scatterplot(\n",
    "            **params_general\n",
    "        )\n",
    "        i_figs_unique_param[i][i_random] = fig\n",
    "        plt.close()"
   ]
  },
  {
   "cell_type": "code",
   "execution_count": 19,
   "id": "9341942c-b9b0-4147-a991-69800bbdcbd9",
   "metadata": {},
   "outputs": [
    {
     "data": {
      "image/png": "[encoded data removed]",
      "text/plain": [
       "<Figure size 1000x800 with 2 Axes>"
      ]
     },
     "execution_count": 19,
     "metadata": {},
     "output_type": "execute_result"
    }
   ],
   "source": [
    "i_figs_unique_param[\"breast_cancer\"][\"random_n0\"][\"difficulties\"]#[\"varied\"][\"random_n0\"][\"difficulties\"]"
   ]
  },
  {
   "cell_type": "markdown",
   "id": "c191365d-6b02-404e-aeea-774964e35aa5",
   "metadata": {},
   "source": [
    "## Save"
   ]
  },
  {
   "cell_type": "code",
   "execution_count": null,
   "id": "45ea557d-4032-43a9-b24d-501d96cf602f",
   "metadata": {},
   "outputs": [],
   "source": [
    "for i_random, i_content in tqdm(figs.items()):\n",
    "    i_content.savefig(\n",
    "        path_outputs_url / Path(i_random + \"_\" + \"diff_disc_all\" + ext_best_img), format=ext_best_img[1:]\n",
    "    )  # eps format\n",
    "    i_content.savefig(\n",
    "        path_outputs_url / Path(i_random + \"_\" + \"diff_disc_all\" + ext_local_img), format=ext_local_img[1:],\n",
    "        **parameters[\"outputs\"][\"args\"]\n",
    "    )  # png format"
   ]
  },
  {
   "cell_type": "code",
   "execution_count": 16,
   "id": "45651f89-09da-4a2d-b385-f7147fd8ca53",
   "metadata": {},
   "outputs": [
    {
     "name": "stderr",
     "output_type": "stream",
     "text": [
      "100%|████████████████████████████████████████████████████████████████████████████████████████████████████████████████████████████████████████████████████████████████████████████████| 3/3 [00:01<00:00,  2.35it/s]\n"
     ]
    }
   ],
   "source": [
    "for i_name, i_content in tqdm(list(i_figs_unique_param.items())):\n",
    "    for j_random, j_content in list(i_content.items())[:1]:\n",
    "        for which_param, k_figure in j_content.items():\n",
    "            k_figure.savefig(\n",
    "                path_outputs_url / Path(i_name + \"_\" + j_random + \"_\" + which_param + ext_best_img),\n",
    "                format=ext_best_img[1:]\n",
    "            )  # eps format\n",
    "            k_figure.savefig(\n",
    "                path_outputs_url / Path(i_name + \"_\" + j_random + \"_\" + which_param + ext_local_img),\n",
    "                format=ext_local_img[1:],\n",
    "                **parameters[\"outputs\"][\"args\"]\n",
    "            )  # png format"
   ]
  },
  {
   "cell_type": "code",
   "execution_count": null,
   "id": "e3efc707-557a-4f1d-818c-9b8fb11786ed",
   "metadata": {},
   "outputs": [],
   "source": [
    "# 2, "
   ]
  }
 ],
 "metadata": {
  "jupytext": {
   "cell_metadata_filter": "-all",
   "encoding": "# coding: utf-8",
   "executable": "/usr/bin/env python",
   "main_language": "python",
   "notebook_metadata_filter": "-all"
  },
  "kernelspec": {
   "display_name": "Python 3 (ipykernel)",
   "language": "python",
   "name": "python3"
  },
  "language_info": {
   "codemirror_mode": {
    "name": "ipython",
    "version": 3
   },
   "file_extension": ".py",
   "mimetype": "text/x-python",
   "name": "python",
   "nbconvert_exporter": "python",
   "pygments_lexer": "ipython3",
   "version": "3.10.12"
  }
 },
 "nbformat": 4,
 "nbformat_minor": 5
}
