{
 "cells": [
  {
   "cell_type": "markdown",
   "id": "7384b082",
   "metadata": {},
   "source": [
    "## Imports"
   ]
  },
  {
   "cell_type": "code",
   "execution_count": 1,
   "id": "a169a052",
   "metadata": {},
   "outputs": [],
   "source": [
    "# utils\n",
    "import os\n",
    "import sys\n",
    "from pathlib import Path\n",
    "PROJECT_DIR = Path.cwd().parent\n",
    "sys.path.append(str(PROJECT_DIR))\n",
    "\n",
    "# basics\n",
    "import numpy as np\n",
    "import pandas as pd\n",
    "from tqdm import tqdm\n",
    "from sklearn.decomposition import PCA\n",
    "# viz\n",
    "import matplotlib.pyplot as plt\n",
    "import seaborn as sns\n",
    "\n",
    "# metrics\n",
    "from utils import config\n",
    "from utils.reader import read_file_yaml\n",
    "from utils.plot.plot import GeneratePlots\n",
    "from utils.utils import set_params\n",
    "\n",
    "np.random.seed(0)"
   ]
  },
  {
   "cell_type": "markdown",
   "id": "5fc812b3",
   "metadata": {},
   "source": [
    "## Reading datasets"
   ]
  },
  {
   "cell_type": "code",
   "execution_count": 2,
   "id": "b7ba2098",
   "metadata": {},
   "outputs": [],
   "source": [
    "path_outputs_url = (\n",
    "    PROJECT_DIR\n",
    "    / \"outputs\"\n",
    ")\n",
    "path_results_url = (\n",
    "    PROJECT_DIR\n",
    "    / \"results\"\n",
    ")\n",
    "path_data_url = (\n",
    "    PROJECT_DIR\n",
    "    / \"data\"\n",
    ")\n",
    "file_path_parameters = (\n",
    "    PROJECT_DIR\n",
    "    / \"conf\" \n",
    "    / \"parameters.yml\"\n",
    ")\n",
    "params = read_file_yaml(file_path_parameters)\n",
    "\n",
    "n_random = np.sort([int(i.replace(\"random_n\",\"\"))for i in os.listdir(path_results_url) if \".placehold\"not in i])\n",
    "path_random = [\n",
    "    \"random_n\"+str(i) for i in n_random\n",
    "]\n",
    "path_results = [path_outputs_url / i for i in path_random]\n",
    "\n",
    "ext_type = params[\"outputs\"][\"extension_type\"]\n",
    "ext_local_img = params[\"outputs\"][\"extension_local_img\"]\n",
    "ext_best_img = params[\"outputs\"][\"extension_best_img\"]"
   ]
  },
  {
   "cell_type": "code",
   "execution_count": 3,
   "id": "d985da68",
   "metadata": {},
   "outputs": [],
   "source": [
    "path_data = {\n",
    "    i: path_data_url / i for i in config.file_names\n",
    "}\n",
    "path_params = {\n",
    "    i: {\n",
    "        j: path_results_url / i / j / \"params\" for j in config.file_names\n",
    "    } for i in path_random\n",
    "}"
   ]
  },
  {
   "cell_type": "code",
   "execution_count": 4,
   "id": "a86a9c1b",
   "metadata": {},
   "outputs": [],
   "source": [
    "data = {\n",
    "    i_name: pd.read_csv( \n",
    "        i_url \n",
    "        / Path(i_name + f\"{ext_type}\")\n",
    "    ) if f\"{i_name}_pca{ext_type}\" not in os.listdir(i_url) else pd.read_csv( \n",
    "        i_url \n",
    "        / Path(i_name + \"_pca\" + ext_type)\n",
    "    ) for i_name, i_url in path_data.items()\n",
    "}"
   ]
  },
  {
   "cell_type": "code",
   "execution_count": 5,
   "id": "60538f6d",
   "metadata": {
    "scrolled": true
   },
   "outputs": [],
   "source": [
    "params = {}\n",
    "for i_random, i_content in path_params.items():\n",
    "    params[i_random] = {}\n",
    "    for j_name, j_content in i_content.items():\n",
    "        params[i_random][j_name] = {}\n",
    "        for which in [\"abilities\", \"diff_disc\"]:\n",
    "            try:\n",
    "                params[i_random][j_name][which] = pd.read_csv(j_content / Path(which+ext_type), index_col = 0)\n",
    "            except:\n",
    "                continue"
   ]
  },
  {
   "cell_type": "markdown",
   "id": "a85de679",
   "metadata": {},
   "source": [
    "## Plot of difficulties"
   ]
  },
  {
   "cell_type": "code",
   "execution_count": null,
   "id": "3faf9ad8",
   "metadata": {
    "lines_to_next_cell": 2
   },
   "outputs": [
    {
     "name": "stderr",
     "output_type": "stream",
     "text": [
      "/home/manuel/Documents/projects/aaai-claire-clustering/utils/plot/plot.py:48: RuntimeWarning: More than 20 figures have been opened. Figures created through the pyplot interface (`matplotlib.pyplot.figure`) are retained until explicitly closed and may consume too much memory. (To control this warning, see the rcParam `figure.max_open_warning`). Consider using `matplotlib.pyplot.close()`.\n",
      "  fig, axes = plt.subplots(nrows, ncols, figsize=figsize)\n"
     ]
    }
   ],
   "source": [
    "figs = {}\n",
    "for i_random, i_content in params.items():\n",
    "    _plt_parameters = set_params(data, i_content)\n",
    "    gp = GeneratePlots(data = data)\n",
    "    fig, _ = gp.scatterplot_diff_disc(\n",
    "        len(_plt_parameters.keys()), \n",
    "        2, \n",
    "        plot_parameters = _plt_parameters,\n",
    "        figsize = (18, (14/6)*len(config.file_names))\n",
    "    )                  \n",
    "    figs[i_random] = fig\n",
    "    figs[i_random].savefig(\n",
    "        path_outputs_url \n",
    "        / Path(i_random + \"_\" + \"diff_disc_all\" + ext_best_img),\n",
    "        format=ext_best_img[1:]) # eps format\n",
    "    figs[i_random].savefig(\n",
    "        path_outputs_url \n",
    "        / Path(i_random + \"_\" + \"diff_disc_all\" + ext_local_img),\n",
    "        format=ext_local_img[1:]) # png format"
   ]
  },
  {
   "cell_type": "code",
   "execution_count": null,
   "id": "b650b933",
   "metadata": {},
   "outputs": [],
   "source": [
    "figs[i_random]"
   ]
  }
 ],
 "metadata": {
  "jupytext": {
   "cell_metadata_filter": "-all",
   "encoding": "# coding: utf-8",
   "executable": "/usr/bin/env python",
   "main_language": "python",
   "notebook_metadata_filter": "-all"
  },
  "kernelspec": {
   "display_name": "Python 3 (ipykernel)",
   "language": "python",
   "name": "python3"
  },
  "language_info": {
   "codemirror_mode": {
    "name": "ipython",
    "version": 3
   },
   "file_extension": ".py",
   "mimetype": "text/x-python",
   "name": "python",
   "nbconvert_exporter": "python",
   "pygments_lexer": "ipython3",
   "version": "3.10.6"
  }
 },
 "nbformat": 4,
 "nbformat_minor": 5
}
