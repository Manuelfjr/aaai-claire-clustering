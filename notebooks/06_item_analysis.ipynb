{
 "cells": [
  {
   "cell_type": "markdown",
   "id": "1e718e91",
   "metadata": {},
   "source": [
    "## Imports"
   ]
  },
  {
   "cell_type": "code",
   "execution_count": null,
   "id": "32a6bfa3",
   "metadata": {},
   "outputs": [],
   "source": [
    "# utils\n",
    "import os\n",
    "import sys\n",
    "from pathlib import Path\n",
    "PROJECT_DIR = Path.cwd().parent\n",
    "sys.path.append(str(PROJECT_DIR))\n",
    "\n",
    "# basics\n",
    "import numpy as np\n",
    "import pandas as pd\n",
    "from tqdm import tqdm\n",
    "\n",
    "# metrics\n",
    "from sklearn.metrics import r2_score\n",
    "\n",
    "# viz\n",
    "from mpl_toolkits.axes_grid1 import make_axes_locatable\n",
    "import matplotlib.pyplot as plt\n",
    "import seaborn as sns\n",
    "\n",
    "# metrics\n",
    "from utils import config\n",
    "from utils.reader import read_file_yaml"
   ]
  },
  {
   "cell_type": "markdown",
   "id": "e9a1653c",
   "metadata": {},
   "source": [
    "## Parameters"
   ]
  },
  {
   "cell_type": "code",
   "execution_count": null,
   "id": "d6a89282",
   "metadata": {},
   "outputs": [],
   "source": [
    "path_results = (\n",
    "    PROJECT_DIR\n",
    "    / \"results\"\n",
    ")\n",
    "path_outputs = (\n",
    "    PROJECT_DIR\n",
    "    / \"outputs\"\n",
    ")\n",
    "file_path_parameters = (\n",
    "    PROJECT_DIR\n",
    "    / \"conf\" \n",
    "    / \"parameters.yml\"\n",
    ")\n",
    "\n",
    "file_path_abi_diff = {\n",
    "    i: {\n",
    "        name: {\n",
    "          _param: path_results / i / name / \"params\" / Path(_param+\".csv\") for _param in [\"abilities\",\"diff_disc\"]\n",
    "        } for name in os.listdir(path_results / i)\n",
    "    } for i in os.listdir(path_results)\n",
    "}\n",
    "\n",
    "file_path_pij = {\n",
    "    i: {\n",
    "        name: {\n",
    "          _param: path_results / i / name / \"pij\" / Path(_param+\".csv\") for _param in [\"pij_true\",\"pij_pred\"]\n",
    "        } for name in os.listdir(path_results / i)\n",
    "    } for i in os.listdir(path_results)\n",
    "}\n",
    "\n",
    "n_random = np.sort([int(i.replace(\"random_n\",\"\"))for i in os.listdir(path_results) if \".placehold\"not in i])\n",
    "path_random = [\n",
    "    \"random_n\"+str(i) for i in n_random\n",
    "]\n",
    "\n",
    "params = read_file_yaml(file_path_parameters)"
   ]
  },
  {
   "cell_type": "markdown",
   "id": "9be2f925",
   "metadata": {},
   "source": [
    "## Read datasets"
   ]
  },
  {
   "cell_type": "code",
   "execution_count": null,
   "id": "1dd4e1d9",
   "metadata": {
    "scrolled": true
   },
   "outputs": [],
   "source": [
    "## params\n",
    "data_params = {\n",
    "    i_random: {\n",
    "      j_name: {\n",
    "          k_param: pd.read_csv(k_content, index_col = 0) for k_param, k_content in j_content.items()\n",
    "      } for j_name, j_content in i_content.items()  \n",
    "    } for i_random, i_content in file_path_abi_diff.items()\n",
    "}"
   ]
  },
  {
   "cell_type": "code",
   "execution_count": null,
   "id": "0e587c9c",
   "metadata": {},
   "outputs": [],
   "source": [
    "## pij\n",
    "data_pij = {\n",
    "    i_random: {\n",
    "      j_name: {\n",
    "          k_param: pd.read_csv(k_content, index_col = 0) for k_param, k_content in j_content.items()\n",
    "      } for j_name, j_content in i_content.items()  \n",
    "    } for i_random, i_content in file_path_pij.items()\n",
    "}"
   ]
  },
  {
   "cell_type": "markdown",
   "id": "627e80ac",
   "metadata": {},
   "source": [
    "## Plot"
   ]
  },
  {
   "cell_type": "code",
   "execution_count": null,
   "id": "4529d717",
   "metadata": {},
   "outputs": [],
   "source": [
    "pij_true = data_pij[\"random_n1\"][\"aniso\"][\"pij_true\"].copy()\n",
    "abilities = data_params[\"random_n1\"][\"aniso\"][\"abilities\"].copy()\n",
    "diff_disc = data_params[\"random_n1\"][\"aniso\"][\"diff_disc\"].copy()"
   ]
  },
  {
   "cell_type": "code",
   "execution_count": null,
   "id": "6a2acf8b",
   "metadata": {
    "scrolled": true
   },
   "outputs": [],
   "source": [
    "figs = {}\n",
    "for i_random in tqdm(path_random):\n",
    "    figs[i_random] = {}\n",
    "    _fig, _axes = plt.subplots(len(config.file_names), 2, figsize=(14, 20))\n",
    "    for idx, (i_name, i_content) in enumerate(list(data_pij[i_random].items())):\n",
    "        pij_true = i_content[\"pij_true\"].copy()\n",
    "        abilities = data_params[i_random][i_name][\"abilities\"]\n",
    "        diffs = data_params[i_random][i_name][\"diff_disc\"]\n",
    "        \n",
    "        _params_plot = [\n",
    "            {\n",
    "                \"x\": _param[0],\n",
    "                \"y\": _param[1],\n",
    "            } for _param in [\n",
    "                    [pij_true.mean().values, abilities[\"abilities\"].values],\n",
    "                    [1 - pij_true.mean(axis=1).values, diffs[\"difficulty\"].values],\n",
    "                ]\n",
    "        ]\n",
    "        \n",
    "        for idx_param, _param in enumerate(_params_plot):\n",
    "            if idx_param == 1:\n",
    "                _param = _param|{\"c\": diffs[\"discrimination\"].values}\n",
    "                scatter = _axes[idx, idx_param].scatter(**_param)\n",
    "                cbar = plt.colorbar(scatter, ax=_axes[idx, idx_param])\n",
    "                cbar.set_label(\"discrimination\")\n",
    "            else:\n",
    "                scatter = _axes[idx, idx_param].scatter(**_param)\n",
    "            _axes[idx, idx_param].grid(True)\n",
    "            _axes[idx, idx_param].set_title(i_name + \" | {:.5}\".format(np.corrcoef(_param['x'], _param['y'])[0,1]), loc='center')\n",
    "            \n",
    "        _axes[idx, 0].set_ylabel(\"abilities\")\n",
    "        _axes[idx, 1].set_ylabel(\"difficulty\")\n",
    "    \n",
    "    _axes[-1, 0].set_xlabel(\"average_response\")\n",
    "    _axes[-1, 1].set_xlabel(\"1 - average_item\")\n",
    "\n",
    "    plt.tight_layout()\n",
    "    plt.ioff()\n",
    "    figs[i_random] = {\n",
    "        \"figure\": _fig,\n",
    "        \"file_path\": (\n",
    "            path_outputs\n",
    "            / Path(\"_\".join([i_random,\"abi\", \"diff\", \"versus\"]) + \".png\")\n",
    "        )\n",
    "    }\n"
   ]
  },
  {
   "cell_type": "markdown",
   "id": "f61bc9e8",
   "metadata": {},
   "source": [
    "## Save"
   ]
  },
  {
   "cell_type": "code",
   "execution_count": null,
   "id": "9cb0fbb7",
   "metadata": {
    "scrolled": true
   },
   "outputs": [],
   "source": [
    "for contents in( figs.values()):\n",
    "    _fig, _file_path = contents[\"figure\"], contents[\"file_path\"]\n",
    "    _fig.savefig(_file_path)"
   ]
  },
  {
   "cell_type": "code",
   "execution_count": null,
   "id": "3b7093a5",
   "metadata": {
    "scrolled": true
   },
   "outputs": [],
   "source": [
    "figs[i_random][\"figure\"]"
   ]
  }
 ],
 "metadata": {
  "jupytext": {
   "cell_metadata_filter": "-all",
   "encoding": "# coding: utf-8",
   "executable": "/usr/bin/env python",
   "main_language": "python",
   "notebook_metadata_filter": "-all"
  },
  "kernelspec": {
   "display_name": "Python 3 (ipykernel)",
   "language": "python",
   "name": "python3"
  },
  "language_info": {
   "codemirror_mode": {
    "name": "ipython",
    "version": 3
   },
   "file_extension": ".py",
   "mimetype": "text/x-python",
   "name": "python",
   "nbconvert_exporter": "python",
   "pygments_lexer": "ipython3",
   "version": "3.10.6"
  }
 },
 "nbformat": 4,
 "nbformat_minor": 5
}
