{
 "cells": [
  {
   "cell_type": "markdown",
   "id": "1e718e91",
   "metadata": {},
   "source": [
    "## Imports"
   ]
  },
  {
   "cell_type": "code",
   "execution_count": null,
   "id": "32a6bfa3",
   "metadata": {},
   "outputs": [],
   "source": [
    "# utils\n",
    "import os\n",
    "import sys\n",
    "from pathlib import Path\n",
    "PROJECT_DIR = Path.cwd().parent\n",
    "sys.path.append(str(PROJECT_DIR))\n",
    "\n",
    "# basics\n",
    "import numpy as np\n",
    "import pandas as pd\n",
    "from tqdm import tqdm\n",
    "\n",
    "# viz\n",
    "import matplotlib.pyplot as plt\n",
    "import seaborn as sns\n",
    "\n",
    "# metrics\n",
    "from utils import config\n",
    "from utils.reader import read_file_yaml\n",
    "from utils.plot.plot import GeneratePlots\n",
    "import string\n",
    "\n",
    "np.random.seed(0)\n",
    "\n",
    "alphabet = string.ascii_lowercase"
   ]
  },
  {
   "cell_type": "markdown",
   "id": "e9a1653c",
   "metadata": {},
   "source": [
    "## Parameters"
   ]
  },
  {
   "cell_type": "code",
   "execution_count": null,
   "id": "d6a89282",
   "metadata": {},
   "outputs": [],
   "source": [
    "params = read_file_yaml(file_path_parameters)\n",
    "\n",
    "path_outputs = (\n",
    "    PROJECT_DIR\n",
    "    / \"outputs\"\n",
    ")\n",
    "path_data = (\n",
    "    PROJECT_DIR\n",
    "    / \"data\"\n",
    ")\n",
    "file_path_parameters = (\n",
    "    PROJECT_DIR\n",
    "    / \"conf\" \n",
    "    / \"parameters.yml\"\n",
    ")\n",
    "\n",
    "file_path_data = {\n",
    "    i: path_data / i / Path(i+\".csv\") for i in config.file_names\n",
    "}\n",
    "file_path_distribution = (\n",
    "    path_outputs \n",
    "    / \"dataset_distribution_labels.eps\"\n",
    ")\n"
   ]
  },
  {
   "cell_type": "markdown",
   "id": "9be2f925",
   "metadata": {},
   "source": [
    "## Read datasets"
   ]
  },
  {
   "cell_type": "code",
   "execution_count": null,
   "id": "1dd4e1d9",
   "metadata": {},
   "outputs": [],
   "source": [
    "data = {}\n",
    "for i_name, i_file_path in file_path_data.items():\n",
    "    data[i_name] = {\n",
    "        \"content\": pd.read_csv(i_file_path),\n",
    "        \"filepath\": i_file_path\n",
    "    }"
   ]
  },
  {
   "cell_type": "markdown",
   "id": "627e80ac",
   "metadata": {},
   "source": [
    "## Plot"
   ]
  },
  {
   "cell_type": "code",
   "execution_count": null,
   "id": "3cbcce89",
   "metadata": {},
   "outputs": [],
   "source": [
    "_params = {\n",
    "    \"x\": \"0\",\n",
    "    \"y\": \"1\",\n",
    "    \"palette\": sns.color_palette(\"dark\"),\n",
    "    \"s\": 50,\n",
    "    \"legend\": False,\n",
    "}"
   ]
  },
  {
   "cell_type": "code",
   "execution_count": null,
   "id": "511c6b53",
   "metadata": {},
   "outputs": [],
   "source": [
    "_params.keys()"
   ]
  },
  {
   "cell_type": "code",
   "execution_count": null,
   "id": "102ca16a",
   "metadata": {},
   "outputs": [],
   "source": [
    "for i_name, i_data in data.items():\n",
    "    if \"no_structure\" == i_name:\n",
    "        tmp_params = _params | {\"data\": data[i_name][\"content\"]}\n",
    "    else:\n",
    "        tmp_params = _params | {\"data\": data[i_name][\"content\"], \"hue\": \"labels\"}\n",
    "    plt.figure(figsize=(12, 8))\n",
    "    sns.scatterplot(**tmp_params)\n",
    "    txt = i_name.replace(\"_\", \" \").title()\n",
    "    plt.title(txt, fontsize=30)\n",
    "    plt.savefig(path_outputs / Path(i_name + \"_behavior.eps\"), format=\"eps\")"
   ]
  },
  {
   "cell_type": "code",
   "execution_count": null,
   "id": "b6837116",
   "metadata": {},
   "outputs": [],
   "source": [
    "int(np.ceil(len(data.items()) / 2))"
   ]
  },
  {
   "cell_type": "code",
   "execution_count": null,
   "id": "e40bdc08",
   "metadata": {
    "scrolled": true
   },
   "outputs": [],
   "source": [
    "n_cols = 2\n",
    "fig, axs = plt.subplots(int(np.ceil(len(data.items()) / n_cols)), n_cols, figsize=(10, 12))\n",
    "\n",
    "# Loop\n",
    "row = 0\n",
    "col = 0\n",
    "for letter, (key, iter_data) in zip(alphabet, data.items()):\n",
    "    if key == \"no_structure\":\n",
    "        iter_data[\"content\"].labels = 1\n",
    "    sns.scatterplot(\n",
    "        x=\"0\",\n",
    "        y=\"1\",\n",
    "        data=iter_data[\"content\"],\n",
    "        hue=\"labels\",\n",
    "        ax=axs[row, col],\n",
    "        palette=sns.color_palette(\"dark\"),\n",
    "        legend=False,\n",
    "    )\n",
    "    axs[row, col].set_title(\n",
    "        f\"({letter}) \" + key.replace(\"_\", \" \").title(), fontsize=20\n",
    "    )\n",
    "    axs[row, col].set_xlabel(\"\")\n",
    "    axs[row, col].set_ylabel(\"\")\n",
    "    axs[row, col].set_xticks([])\n",
    "    axs[row, col].set_yticks([])\n",
    "    col += 1\n",
    "    if col == 2:\n",
    "        col = 0\n",
    "        row += 1\n",
    "plt.tight_layout()\n",
    "plt.savefig(file_path_distribution, format = \"eps\")"
   ]
  },
  {
   "cell_type": "code",
   "execution_count": null,
   "id": "4529d717",
   "metadata": {},
   "outputs": [],
   "source": []
  }
 ],
 "metadata": {
  "jupytext": {
   "cell_metadata_filter": "-all",
   "encoding": "# coding: utf-8",
   "executable": "/usr/bin/env python",
   "main_language": "python",
   "notebook_metadata_filter": "-all"
  },
  "kernelspec": {
   "display_name": "Python 3 (ipykernel)",
   "language": "python",
   "name": "python3"
  },
  "language_info": {
   "codemirror_mode": {
    "name": "ipython",
    "version": 3
   },
   "file_extension": ".py",
   "mimetype": "text/x-python",
   "name": "python",
   "nbconvert_exporter": "python",
   "pygments_lexer": "ipython3",
   "version": "3.10.11"
  }
 },
 "nbformat": 4,
 "nbformat_minor": 5
}
