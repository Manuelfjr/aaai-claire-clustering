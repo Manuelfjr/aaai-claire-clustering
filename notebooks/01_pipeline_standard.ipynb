{
 "cells": [
  {
   "cell_type": "markdown",
   "id": "0cb1be97",
   "metadata": {},
   "source": [
    "## Imports"
   ]
  },
  {
   "cell_type": "code",
   "execution_count": 1,
   "id": "993d261e",
   "metadata": {},
   "outputs": [
    {
     "name": "stderr",
     "output_type": "stream",
     "text": [
      "2023-07-20 11:56:51.472588: I tensorflow/core/platform/cpu_feature_guard.cc:182] This TensorFlow binary is optimized to use available CPU instructions in performance-critical operations.\n",
      "To enable the following instructions: AVX2 FMA, in other operations, rebuild TensorFlow with the appropriate compiler flags.\n",
      "2023-07-20 11:56:52.866529: W tensorflow/compiler/tf2tensorrt/utils/py_utils.cc:38] TF-TRT Warning: Could not find TensorRT\n"
     ]
    },
    {
     "name": "stdout",
     "output_type": "stream",
     "text": [
      "\n"
     ]
    }
   ],
   "source": [
    "# utils\n",
    "import os\n",
    "import re\n",
    "import sys\n",
    "from tqdm import tqdm\n",
    "from pathlib import Path\n",
    "PROJECT_DIR = Path.cwd().parent\n",
    "sys.path.append(str(PROJECT_DIR))\n",
    "\n",
    "# basics\n",
    "import numpy as np\n",
    "import pandas as pd\n",
    "\n",
    "# metrics\n",
    "from src.claire import CLAIRE\n",
    "from utils import config\n",
    "from utils.reader import read_file_yaml\n",
    "\n",
    "np.random.seed(0)"
   ]
  },
  {
   "cell_type": "code",
   "execution_count": 2,
   "id": "e9b46c13",
   "metadata": {},
   "outputs": [
    {
     "ename": "NameError",
     "evalue": "name 'params' is not defined",
     "output_type": "error",
     "traceback": [
      "\u001b[0;31m---------------------------------------------------------------------------\u001b[0m",
      "\u001b[0;31mNameError\u001b[0m                                 Traceback (most recent call last)",
      "Cell \u001b[0;32mIn[2], line 17\u001b[0m\n\u001b[1;32m     13\u001b[0m path_data \u001b[38;5;241m=\u001b[39m [path_root \u001b[38;5;241m/\u001b[39m i \u001b[38;5;28;01mfor\u001b[39;00m i \u001b[38;5;129;01min\u001b[39;00m config\u001b[38;5;241m.\u001b[39mfile_names]\n\u001b[1;32m     15\u001b[0m parameters \u001b[38;5;241m=\u001b[39m read_file_yaml(file_path_parameters)\n\u001b[0;32m---> 17\u001b[0m ext_type \u001b[38;5;241m=\u001b[39m \u001b[43mparams\u001b[49m[\u001b[38;5;124m\"\u001b[39m\u001b[38;5;124moutputs\u001b[39m\u001b[38;5;124m\"\u001b[39m][\u001b[38;5;124m\"\u001b[39m\u001b[38;5;124mextension_type\u001b[39m\u001b[38;5;124m\"\u001b[39m]\n\u001b[1;32m     18\u001b[0m ext_local_img \u001b[38;5;241m=\u001b[39m params[\u001b[38;5;124m\"\u001b[39m\u001b[38;5;124moutputs\u001b[39m\u001b[38;5;124m\"\u001b[39m][\u001b[38;5;124m\"\u001b[39m\u001b[38;5;124mextension_local_img\u001b[39m\u001b[38;5;124m\"\u001b[39m]\n\u001b[1;32m     19\u001b[0m ext_best_img \u001b[38;5;241m=\u001b[39m params[\u001b[38;5;124m\"\u001b[39m\u001b[38;5;124moutputs\u001b[39m\u001b[38;5;124m\"\u001b[39m][\u001b[38;5;124m\"\u001b[39m\u001b[38;5;124mextension_best_img\u001b[39m\u001b[38;5;124m\"\u001b[39m]\n",
      "\u001b[0;31mNameError\u001b[0m: name 'params' is not defined"
     ]
    }
   ],
   "source": [
    "path_root = (\n",
    "    PROJECT_DIR\n",
    "    / \"data\"\n",
    ")\n",
    "path_conf = (\n",
    "    PROJECT_DIR\n",
    "    / \"conf\"\n",
    ")\n",
    "file_path_parameters = (\n",
    "    path_conf \n",
    "    / \"parameters.yml\"\n",
    ")\n",
    "path_data = [path_root / i for i in config.file_names]\n",
    "\n",
    "parameters = read_file_yaml(file_path_parameters)\n",
    "\n",
    "ext_type = params[\"outputs\"][\"extension_type\"]\n",
    "ext_local_img = params[\"outputs\"][\"extension_local_img\"]\n",
    "ext_best_img = params[\"outputs\"][\"extension_best_img\"]"
   ]
  },
  {
   "cell_type": "code",
   "execution_count": null,
   "id": "5b4144d3",
   "metadata": {
    "tags": [
     "hide_input"
    ]
   },
   "outputs": [],
   "source": [
    "under_line = \"\\n{}\\n\"\n",
    "title_part_n2 = \"PROJECT_DIR: [ {} ]\".format(PROJECT_DIR)\n",
    "title_part_n3 = under_line.format(\n",
    "    \"\".join([\"-\"]*len(title_part_n2))\n",
    ")\n",
    "title_part_n1 = under_line.format(\n",
    "    \"\".join([\"-\"]*len(title_part_n2))\n",
    ")\n",
    "print(title_part_n1 + title_part_n2 + title_part_n3)"
   ]
  },
  {
   "cell_type": "markdown",
   "id": "2c076ad2",
   "metadata": {},
   "source": [
    "## Read"
   ]
  },
  {
   "cell_type": "code",
   "execution_count": null,
   "id": "25e6c446",
   "metadata": {
    "lines_to_next_cell": 2
   },
   "outputs": [],
   "source": [
    "data_all = {\n",
    "    i: pd.read_csv(path_data[idx] / Path(i + ext_type))\n",
    "    for idx, i in enumerate(config.file_names)\n",
    "}"
   ]
  },
  {
   "cell_type": "markdown",
   "id": "7ac03435",
   "metadata": {},
   "source": [
    "## Running for all clusterings dataset"
   ]
  },
  {
   "cell_type": "code",
   "execution_count": null,
   "id": "0f597c73",
   "metadata": {
    "lines_to_next_cell": 2
   },
   "outputs": [],
   "source": [
    "_X, _Y = {}, {}\n",
    "for i in config.file_names:\n",
    "    _X[i] = data_all[i].drop(\"labels\", axis=1).values\n",
    "    _Y[i] = data_all[i][\"labels\"].values"
   ]
  },
  {
   "cell_type": "code",
   "execution_count": null,
   "id": "da7a3d74",
   "metadata": {},
   "outputs": [],
   "source": [
    "#### select if it is random include simulation ####\n",
    "if parameters[\"include_random_model\"]:\n",
    "    number_random_models = len(np.unique(list(config.models_name_dataset.values())[0]))\n",
    "else:\n",
    "    number_random_models = 1\n",
    "path_result = Path(config.dir_result)"
   ]
  },
  {
   "cell_type": "code",
   "execution_count": null,
   "id": "4bc4d67d",
   "metadata": {
    "lines_to_next_cell": 2,
    "scrolled": true
   },
   "outputs": [],
   "source": [
    "init_generate = params[\"experiments\"][\"rp_init\"]\n",
    "\n",
    "if params[\"experiments\"][\"rp_init\"] == \"max\":\n",
    "    stop_generate = number_random_models\n",
    "else:\n",
    "    stop_generate = params[\"experiments\"][\"rp_init\"]\n",
    "\n",
    "del config.params[\"optics\"]\n",
    "for k_random in tqdm(range(init_generate, stop_generate)):\n",
    "    #     if k_random > 0:\n",
    "    #         break\n",
    "    which_k_random = \"n_random_model: [ {} ]\".format(k_random + 1)\n",
    "    print(title_part_n1 + which_k_random + title_part_n3)\n",
    "    if number_random_models != 1:\n",
    "        path_result = path_result / Path(f\"random_n{k_random+1}\")\n",
    "        if not os.path.exists(PROJECT_DIR / path_result):\n",
    "            os.makedirs(path_result)\n",
    "\n",
    "    for i in tqdm(config.file_names):\n",
    "        models_params = config.params | {\"optics\": [config._optics_params[i]]}\n",
    "\n",
    "        claire = CLAIRE(\n",
    "            models_name=np.unique(config.models_name_dataset[i]),\n",
    "            models=config.models,\n",
    "            params=models_params,\n",
    "            _X=_X,\n",
    "            _Y=_Y,\n",
    "            metrics=config.metrics,\n",
    "            dir_result=path_result,\n",
    "            path_root=PROJECT_DIR,\n",
    "        )\n",
    "\n",
    "        if len(np.unique(_Y[i])) == 1:\n",
    "            n_clusters = np.random.randint(1, 10)\n",
    "        else:\n",
    "            n_clusters = len(np.unique(_Y[i]))\n",
    "\n",
    "        which_k_dataset = \"dataset: [ {} ]\".format(i)\n",
    "\n",
    "        print(title_part_n1 + which_k_dataset + title_part_n3)\n",
    "\n",
    "        #  processing\n",
    "        combination_models = claire.transform()\n",
    "        claire.fit_combination_models(combination_models, _X[i])\n",
    "\n",
    "        data_results = claire.generate_results(combination_models)\n",
    "        pij = claire.generate_pij_matrix(data_results, k_random + 1, n_clusters)\n",
    "\n",
    "        # set beta4 params\n",
    "        beta_params = parameters[\"beta_params\"] | {\"pij\": pij, \"n_respondents\": pij.shape[1], \"n_items\": pij.shape[0]}\n",
    "\n",
    "        # fit\n",
    "        beta4_model = claire.fit_beta4(**beta_params)\n",
    "\n",
    "        # metrics\n",
    "        data_metrics = claire.calculate_metrics(data_results, beta4_model, claire._X[i], claire._Y[i])\n",
    "\n",
    "        # contents\n",
    "        dir_contents = [\n",
    "            (\n",
    "                \"metrics\",\n",
    "                (\n",
    "                    \"metrics\"+ext_type,\n",
    "                    data_metrics.sort_values(\"abilities\", ascending=False),\n",
    "                ),\n",
    "                (None),\n",
    "            ),\n",
    "            (\n",
    "                \"pij\",\n",
    "                (\"pij_true\"+ext_type, pij),\n",
    "                (\"pij_pred\"+ext_type, pd.DataFrame(claire.b4.pij, columns=pij.columns)),\n",
    "            ),\n",
    "            (\n",
    "                \"params\",\n",
    "                (\n",
    "                    \"abilities\"+ext_type,\n",
    "                    pd.DataFrame(claire.b4.abilities, index=pij.columns, columns=[\"abilities\"]),\n",
    "                ),\n",
    "                (\n",
    "                    \"diff_disc\"+ext_type,\n",
    "                    pd.DataFrame(\n",
    "                        {\n",
    "                            \"difficulty\": claire.b4.difficulties,\n",
    "                            \"discrimination\": claire.b4.discriminations,\n",
    "                        }\n",
    "                    ),\n",
    "                ),\n",
    "            ),\n",
    "            (\"labels\", (\"labels\"+ext_type, data_results), (None)),\n",
    "        ]\n",
    "\n",
    "        # save\n",
    "        claire.save_results(i, dir_contents)\n",
    "    path_result = Path(config.dir_result)"
   ]
  },
  {
   "cell_type": "code",
   "execution_count": null,
   "id": "f81664f9",
   "metadata": {},
   "outputs": [],
   "source": []
  }
 ],
 "metadata": {
  "jupytext": {
   "cell_metadata_filter": "-all",
   "encoding": "# coding: utf-8",
   "executable": "/usr/bin/env python",
   "main_language": "python",
   "notebook_metadata_filter": "-all"
  },
  "kernelspec": {
   "display_name": "Python 3 (ipykernel)",
   "language": "python",
   "name": "python3"
  },
  "language_info": {
   "codemirror_mode": {
    "name": "ipython",
    "version": 3
   },
   "file_extension": ".py",
   "mimetype": "text/x-python",
   "name": "python",
   "nbconvert_exporter": "python",
   "pygments_lexer": "ipython3",
   "version": "3.10.6"
  }
 },
 "nbformat": 4,
 "nbformat_minor": 5
}
