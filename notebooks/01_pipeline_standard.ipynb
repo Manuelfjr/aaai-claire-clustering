{
 "cells": [
  {
   "cell_type": "markdown",
   "id": "0cb1be97",
   "metadata": {},
   "source": [
    "## Imports"
   ]
  },
  {
   "cell_type": "code",
   "execution_count": 1,
   "id": "993d261e",
   "metadata": {},
   "outputs": [
    {
     "name": "stderr",
     "output_type": "stream",
     "text": [
      "2023-07-02 19:27:34.264350: I tensorflow/core/platform/cpu_feature_guard.cc:182] This TensorFlow binary is optimized to use available CPU instructions in performance-critical operations.\n",
      "To enable the following instructions: AVX2 FMA, in other operations, rebuild TensorFlow with the appropriate compiler flags.\n",
      "2023-07-02 19:27:34.921441: W tensorflow/compiler/tf2tensorrt/utils/py_utils.cc:38] TF-TRT Warning: Could not find TensorRT\n"
     ]
    }
   ],
   "source": [
    "# utils\n",
    "import os\n",
    "import re\n",
    "import sys\n",
    "from tqdm import tqdm\n",
    "from pathlib import Path\n",
    "PROJECT_DIR = Path.cwd().parent\n",
    "sys.path.append(str(PROJECT_DIR))\n",
    "\n",
    "# basics\n",
    "import numpy as np\n",
    "import pandas as pd\n",
    "\n",
    "# metrics\n",
    "from src.claire import CLAIRE\n",
    "from utils import config\n",
    "from utils.reader import read_file_yaml\n",
    "\n",
    "np.random.seed(0)"
   ]
  },
  {
   "cell_type": "code",
   "execution_count": 2,
   "id": "e9b46c13",
   "metadata": {},
   "outputs": [],
   "source": [
    "path_root = (\n",
    "    PROJECT_DIR\n",
    "    / \"data\"\n",
    ")\n",
    "path_conf = (\n",
    "    PROJECT_DIR\n",
    "    / \"conf\"\n",
    ")\n",
    "file_path_parameters = (\n",
    "    path_conf \n",
    "    / \"parameters.yml\"\n",
    ")\n",
    "path_data = [path_root / i for i in config.file_names]"
   ]
  },
  {
   "cell_type": "code",
   "execution_count": 3,
   "id": "5b4144d3",
   "metadata": {
    "tags": [
     "hide_input"
    ]
   },
   "outputs": [
    {
     "name": "stdout",
     "output_type": "stream",
     "text": [
      "\n",
      "-----------------------------------------------------------------------\n",
      "PROJECT_DIR: [ /home/manuel/Documents/projects/aaai-claire-clustering ]\n",
      "-----------------------------------------------------------------------\n",
      "\n"
     ]
    }
   ],
   "source": [
    "under_line = \"\\n{}\\n\"\n",
    "title_part_n2 = \"PROJECT_DIR: [ {} ]\".format(PROJECT_DIR)\n",
    "title_part_n3 = under_line.format(\n",
    "    \"\".join([\"-\"]*len(title_part_n2))\n",
    ")\n",
    "title_part_n1 = under_line.format(\n",
    "    \"\".join([\"-\"]*len(title_part_n2))\n",
    ")\n",
    "print(title_part_n1 + title_part_n2 + title_part_n3)"
   ]
  },
  {
   "cell_type": "markdown",
   "id": "2c076ad2",
   "metadata": {},
   "source": [
    "## Read"
   ]
  },
  {
   "cell_type": "code",
   "execution_count": 4,
   "id": "95b6749e",
   "metadata": {},
   "outputs": [],
   "source": [
    "parameters = read_file_yaml(file_path_parameters)"
   ]
  },
  {
   "cell_type": "code",
   "execution_count": 5,
   "id": "25e6c446",
   "metadata": {
    "lines_to_next_cell": 2
   },
   "outputs": [],
   "source": [
    "data_all = {\n",
    "    i: pd.read_csv(path_data[idx] / Path(i + '.csv'))\n",
    "    for idx, i in enumerate(config.file_names)\n",
    "}"
   ]
  },
  {
   "cell_type": "markdown",
   "id": "7ac03435",
   "metadata": {},
   "source": [
    "## Running for all clusterings dataset"
   ]
  },
  {
   "cell_type": "code",
   "execution_count": 6,
   "id": "0f597c73",
   "metadata": {
    "lines_to_next_cell": 2
   },
   "outputs": [],
   "source": [
    "_X, _Y = {}, {}\n",
    "for i in config.file_names:\n",
    "    _X[i] = data_all[i].drop(\"labels\", axis=1).values\n",
    "    _Y[i] = data_all[i][\"labels\"].values"
   ]
  },
  {
   "cell_type": "code",
   "execution_count": 7,
   "id": "da7a3d74",
   "metadata": {},
   "outputs": [],
   "source": [
    "#### select if it is random include simulation ####\n",
    "if parameters[\"include_random_model\"]:\n",
    "    number_random_models = len(config.models_name)\n",
    "else:\n",
    "    number_random_models = 1\n",
    "path_result = Path(config.dir_result)"
   ]
  },
  {
   "cell_type": "code",
   "execution_count": 8,
   "id": "8af7e2cc",
   "metadata": {},
   "outputs": [
    {
     "data": {
      "text/plain": [
       "35"
      ]
     },
     "execution_count": 8,
     "metadata": {},
     "output_type": "execute_result"
    }
   ],
   "source": [
    "number_random_models"
   ]
  },
  {
   "cell_type": "code",
   "execution_count": null,
   "id": "4bc4d67d",
   "metadata": {
    "lines_to_next_cell": 2,
    "scrolled": true
   },
   "outputs": [],
   "source": [
    "for k_random in tqdm(range(number_random_models)):\n",
    "#     if k_random > 0:\n",
    "#         break\n",
    "    which_k_random = \"n_random_model: [ {} ]\".format(k_random+1)\n",
    "    print(title_part_n1 + which_k_random + title_part_n3)\n",
    "    if (number_random_models != 1):\n",
    "        path_result = path_result / Path(f\"random_n{k_random+1}\")\n",
    "        if not os.path.exists(PROJECT_DIR / path_result):\n",
    "            os.makedirs(path_result)\n",
    "    \n",
    "    claire = CLAIRE(\n",
    "        models_name = config.models_name,\n",
    "        models = config.models,\n",
    "        params = config.params,\n",
    "        _X = _X, \n",
    "        _Y = _Y,\n",
    "        metrics = config.metrics,\n",
    "        dir_result = path_result,\n",
    "        path_root = PROJECT_DIR,\n",
    "    )\n",
    "    for i in tqdm(config.file_names):\n",
    "        if len(np.unique(_Y[i])) == 1:\n",
    "            n_clusters = np.random.randint(0, 10)\n",
    "        else:\n",
    "            n_clusters = len(np.unique(_Y[i]))\n",
    "        \n",
    "        which_k_dataset = \"dataset: [ {} ]\".format(i)\n",
    "        print(title_part_n1 + which_k_dataset + title_part_n3)\n",
    "        #  processing\n",
    "        combination_models = claire.transform()\n",
    "        claire.fit_combination_models(combination_models, _X[i])\n",
    "        data_results = claire.generate_results(combination_models)\n",
    "        pij = claire.generate_pij_matrix(\n",
    "            data_results,\n",
    "            k_random + 1,\n",
    "            n_clusters\n",
    "        )\n",
    "\n",
    "        # set beta4 params\n",
    "        beta_params = parameters[\"beta_params\"]|{\n",
    "                \"pij\": pij, \n",
    "                \"n_respondents\": pij.shape[1],\n",
    "                \"n_items\": pij.shape[0]\n",
    "            }\n",
    "\n",
    "        # fit\n",
    "        beta4_model = claire.fit_beta4( **beta_params )\n",
    "\n",
    "        # metrics\n",
    "        data_metrics = claire.calculate_metrics(\n",
    "            data_results,\n",
    "            beta4_model, \n",
    "            claire._X[i],\n",
    "            claire._Y[i]\n",
    "        )\n",
    "\n",
    "        # contents\n",
    "        dir_contents = [\n",
    "            (\n",
    "                \"metrics\",\n",
    "                (\n",
    "                    \"metrics.csv\",\n",
    "                    data_metrics.sort_values(\"abilities\", ascending = False),\n",
    "                ),\n",
    "                (None),\n",
    "            ),\n",
    "            (\n",
    "                \"pij\",\n",
    "                (\"pij_true.csv\", pij),\n",
    "                (\"pij_pred.csv\", pd.DataFrame(claire.b4.pij,\n",
    "                                              columns = pij.columns)\n",
    "                ),\n",
    "            ),\n",
    "            (\n",
    "                \"params\",\n",
    "                (\n",
    "                    \"abilities.csv\",\n",
    "                    pd.DataFrame(\n",
    "                        claire.b4.abilities, index = pij.columns, columns = [\"abilities\"]\n",
    "                    ),\n",
    "                ),\n",
    "                (\n",
    "                    \"diff_disc.csv\",\n",
    "                    pd.DataFrame(\n",
    "                        {\n",
    "                            \"difficulty\": claire.b4.difficulties,\n",
    "                            \"discrimination\": claire.b4.discriminations,\n",
    "                        }\n",
    "                    ),\n",
    "                ),\n",
    "            ),\n",
    "            (\"labels\", (\"labels.csv\", data_results), (None))\n",
    "        ]\n",
    "\n",
    "        # save\n",
    "        claire.save_results(i, dir_contents)"
   ]
  }
 ],
 "metadata": {
  "jupytext": {
   "cell_metadata_filter": "-all",
   "encoding": "# coding: utf-8",
   "executable": "/usr/bin/env python",
   "main_language": "python",
   "notebook_metadata_filter": "-all"
  },
  "kernelspec": {
   "display_name": "Python 3 (ipykernel)",
   "language": "python",
   "name": "python3"
  },
  "language_info": {
   "codemirror_mode": {
    "name": "ipython",
    "version": 3
   },
   "file_extension": ".py",
   "mimetype": "text/x-python",
   "name": "python",
   "nbconvert_exporter": "python",
   "pygments_lexer": "ipython3",
   "version": "3.10.6"
  }
 },
 "nbformat": 4,
 "nbformat_minor": 5
}
