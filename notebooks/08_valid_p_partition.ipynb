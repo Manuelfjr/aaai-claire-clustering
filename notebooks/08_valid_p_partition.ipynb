{
 "cells": [
  {
   "cell_type": "markdown",
   "id": "1e718e91",
   "metadata": {},
   "source": [
    "## Imports"
   ]
  },
  {
   "cell_type": "code",
   "execution_count": 1,
   "id": "32a6bfa3",
   "metadata": {},
   "outputs": [],
   "source": [
    "# utils\n",
    "import os\n",
    "import sys\n",
    "from pathlib import Path\n",
    "\n",
    "PROJECT_DIR = Path.cwd().parent\n",
    "sys.path.append(str(PROJECT_DIR))\n",
    "\n",
    "# viz\n",
    "import matplotlib.pyplot as plt\n",
    "# basics\n",
    "import numpy as np\n",
    "import pandas as pd\n",
    "# metrics\n",
    "from tqdm import tqdm\n",
    "\n",
    "# metrics\n",
    "from utils import config\n",
    "from utils.reader import read_file_yaml"
   ]
  },
  {
   "cell_type": "markdown",
   "id": "e9a1653c",
   "metadata": {},
   "source": [
    "## Parameters"
   ]
  },
  {
   "cell_type": "code",
   "execution_count": 2,
   "id": "d6a89282",
   "metadata": {},
   "outputs": [],
   "source": [
    "path_results = PROJECT_DIR / \"results\"\n",
    "path_outputs = PROJECT_DIR / \"outputs\"\n",
    "file_path_parameters = PROJECT_DIR / \"conf\" / \"parameters.yml\"\n",
    "\n",
    "params = read_file_yaml(file_path_parameters)\n",
    "\n",
    "ext_type = params[\"outputs\"][\"extension_type\"]\n",
    "ext_local_img = params[\"outputs\"][\"extension_local_img\"]\n",
    "ext_best_img = params[\"outputs\"][\"extension_best_img\"]\n",
    "\n",
    "file_path_abi_diff = {\n",
    "    i: {\n",
    "        name: {\n",
    "            _param: path_results / i / name / \"params\" / Path(_param + ext_type)\n",
    "            for _param in [\"abilities\", \"diff_disc\"]\n",
    "        }\n",
    "        for name in os.listdir(path_results / i)\n",
    "    }\n",
    "    for i in os.listdir(path_results)\n",
    "}\n",
    "\n",
    "file_path_pij = {\n",
    "    i: {\n",
    "        name: {_param: path_results / i / name / \"pij\" / Path(_param + ext_type) for _param in [\"pij_true\", \"pij_pred\"]}\n",
    "        for name in os.listdir(path_results / i)\n",
    "    }\n",
    "    for i in os.listdir(path_results)\n",
    "}\n",
    "\n",
    "n_random = np.sort(\n",
    "    [int(i.replace(\"random_n\", \"\")) for i in os.listdir(path_results) if \".placehold\" not in i]\n",
    ")\n",
    "path_random = [\"random_n\" + str(i) for i in n_random]"
   ]
  },
  {
   "cell_type": "markdown",
   "id": "9be2f925",
   "metadata": {},
   "source": [
    "## Read datasets"
   ]
  },
  {
   "cell_type": "code",
   "execution_count": null,
   "id": "25f538e0-2268-46b8-a3cc-dacb5b5712b9",
   "metadata": {},
   "outputs": [],
   "source": [
    "# params\n",
    "data_params = {\n",
    "    i_random: {\n",
    "        j_name: {k_param: pd.read_csv(k_content, index_col=0) for k_param, k_content in j_content.items()}\n",
    "        for j_name, j_content in i_content.items()\n",
    "    }\n",
    "    for i_random, i_content in file_path_abi_diff.items()\n",
    "}"
   ]
  },
  {
   "cell_type": "code",
   "execution_count": null,
   "id": "0e587c9c",
   "metadata": {},
   "outputs": [],
   "source": [
    "# pij\n",
    "data_pij = {\n",
    "    i_random: {\n",
    "        j_name: {k_param: pd.read_csv(k_content, index_col=0) for k_param, k_content in j_content.items()}\n",
    "        for j_name, j_content in i_content.items()\n",
    "    }\n",
    "    for i_random, i_content in file_path_pij.items()\n",
    "}"
   ]
  },
  {
   "cell_type": "markdown",
   "id": "e2fee222-ba59-4873-8a95-899bf01f9f9d",
   "metadata": {},
   "source": [
    "##  Methods"
   ]
  },
  {
   "cell_type": "code",
   "execution_count": null,
   "id": "091fcccd-9386-43ac-97d7-7ee9c45484ec",
   "metadata": {},
   "outputs": [],
   "source": [
    "def equation_k(xi0: np.array,\n",
    "               xi1: np.array,\n",
    "               m_models: int,\n",
    "               k_partitions: int) -> np.array:\n",
    "    B = (m_models) / (m_models + k_partitions)\n",
    "    _xi1_pred = xi0 * (B) + (1 / 2) * (1 - B)\n",
    "    if np.sum(xi0 < xi1) >= int(np.ceil(len(xi0) / 2)):\n",
    "        _xi1_pred = xi0 * (B) + (1 / 2) * (1 - B)\n",
    "    else:\n",
    "        _xi1_pred = xi0 * (B) - (1 / 2) * (1 - B)\n",
    "    error = np.sqrt(np.sum((xi1 - _xi1_pred) ** (2)) / len(xi1))\n",
    "    return _xi1_pred, error"
   ]
  },
  {
   "cell_type": "markdown",
   "id": "e936a99c-0caa-4507-a39e-076e847907b4",
   "metadata": {},
   "source": [
    "##  Equation"
   ]
  },
  {
   "cell_type": "markdown",
   "id": "be2012d7-d033-4aff-9f67-cff9cb09c3a7",
   "metadata": {},
   "source": [
    "$$\n",
    "a_{ij} = a_{ij}\\cdot B \\pm \\frac{1}{2}\\cdot(1 - B)\n",
    "$$\n",
    "\n",
    "thus\n",
    "\n",
    "$$\n",
    "B = \\frac{M}{M + K}\n",
    "$$"
   ]
  },
  {
   "cell_type": "markdown",
   "id": "ba255ff5-728a-49eb-b4d1-cec1a6388979",
   "metadata": {},
   "source": [
    "## Processing"
   ]
  },
  {
   "cell_type": "code",
   "execution_count": null,
   "id": "50da072b-7fd4-45b7-ab0f-7a2bedb7452f",
   "metadata": {},
   "outputs": [],
   "source": [
    "error_partition = {}\n",
    "partitions_compare = {}\n",
    "for name in tqdm(config.file_names[:1]):\n",
    "    error_partition[name] = {}\n",
    "    partitions_compare[name] = {}\n",
    "    for i0_random in path_random:\n",
    "        error_partition[name][i0_random] = {}\n",
    "        count = np.where(path_random[0] == np.array(path_random))[0][0] + 1\n",
    "        for i1_random in path_random[(np.where(i0_random == np.array(path_random))[0][0] + 1):]:\n",
    "            m, k = len(np.unique(config.models_name_dataset[name])), int(i1_random.replace(\"random_\", \"\")[1:])\n",
    "            i0_text, i1_text = \"$p_{\" + str(k - 1) + \"}$\", \"$p_{\" + str(k) + \"}$\"\n",
    "            i0_random_data = data_params[i0_random][name][\"abilities\"].copy()\n",
    "            i1_random_data = data_params[i1_random][name][\"abilities\"].copy()\n",
    "#             i0_random_data  = data_pij[i0_random][name][\"pij_true\"].T.copy()\n",
    "#             i1_random_data  = data_pij[i1_random][name][\"pij_pred\"].T.copy()\n",
    "            i0_random_data = (\n",
    "                i0_random_data[~i0_random_data.index.str.startswith(\"random_model\")]\n",
    "                .reset_index().rename(columns={\"abilities\": \"\"})\n",
    "            )\n",
    "            i1_random_data = (\n",
    "                i1_random_data[~i1_random_data.index.str.startswith(\"random_model\")]\n",
    "                .reset_index().rename(columns={\"abilities\": \"\"})\n",
    "            )\n",
    "\n",
    "            partitions_compare[name][i0_random + \"_\" + i1_random] = i0_random_data.merge(\n",
    "                i1_random_data,\n",
    "                on=[\"index\"],\n",
    "                suffixes=(i0_text, i1_text)\n",
    "            )\n",
    "            _i1_pred, _error = equation_k(\n",
    "                partitions_compare[name][i0_random + \"_\" + i1_random].iloc[:, 1],\n",
    "                partitions_compare[name][i0_random + \"_\" + i1_random].iloc[:, 2],\n",
    "                m,\n",
    "                k\n",
    "            )\n",
    "            error_partition[name][i0_random][i1_random] = [_error]\n",
    "            partitions_compare[name][i0_random + \"_\" + i1_random][i1_text + \"_pred\"] = _i1_pred"
   ]
  },
  {
   "cell_type": "markdown",
   "id": "627e80ac",
   "metadata": {},
   "source": [
    "## Plot"
   ]
  },
  {
   "cell_type": "code",
   "execution_count": null,
   "id": "2f4d5efd-aba4-415e-9220-86606f8c02bf",
   "metadata": {
    "scrolled": true
   },
   "outputs": [],
   "source": [
    "figs = {}\n",
    "for i_name, i_content in tqdm(error_partition.items()):\n",
    "    figs[i_name] = {}\n",
    "    for j_random, j_content_plot in i_content.items():\n",
    "        if j_random == path_random[-1]:\n",
    "            continue\n",
    "        j_content_data = pd.DataFrame(j_content_plot).T\n",
    "        j_content_data.index = j_content_data.index.str.replace(\"random_n\", \"$p_{(\") + \")}$\"\n",
    "        _fig, _ax = plt.subplots(1, 1, figsize=(22, 10))\n",
    "        _ax.plot(j_content_data.index, j_content_data.values)\n",
    "        plt.ioff()\n",
    "        figs[i_name][j_random] = _fig"
   ]
  },
  {
   "cell_type": "markdown",
   "id": "f61bc9e8",
   "metadata": {},
   "source": [
    "## Save"
   ]
  },
  {
   "cell_type": "code",
   "execution_count": null,
   "id": "9cb0fbb7",
   "metadata": {
    "scrolled": true
   },
   "outputs": [],
   "source": [
    "# for contents in figs.values():\n",
    "#     _fig, _file_path = contents[\"figure\"], contents[\"file_path\"]\n",
    "#     _fig.savefig(_file_path)"
   ]
  },
  {
   "cell_type": "code",
   "execution_count": null,
   "id": "3b7093a5",
   "metadata": {
    "scrolled": true
   },
   "outputs": [],
   "source": []
  }
 ],
 "metadata": {
  "jupytext": {
   "cell_metadata_filter": "-all",
   "encoding": "# coding: utf-8",
   "executable": "/usr/bin/env python",
   "main_language": "python",
   "notebook_metadata_filter": "-all"
  },
  "kernelspec": {
   "display_name": "Python 3 (ipykernel)",
   "language": "python",
   "name": "python3"
  },
  "language_info": {
   "codemirror_mode": {
    "name": "ipython",
    "version": 3
   },
   "file_extension": ".py",
   "mimetype": "text/x-python",
   "name": "python",
   "nbconvert_exporter": "python",
   "pygments_lexer": "ipython3",
   "version": "3.10.6"
  }
 },
 "nbformat": 4,
 "nbformat_minor": 5
}
