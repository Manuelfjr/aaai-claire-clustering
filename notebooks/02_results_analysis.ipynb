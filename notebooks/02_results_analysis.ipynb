{
 "cells": [
  {
   "cell_type": "markdown",
   "id": "0cb1be97",
   "metadata": {},
   "source": [
    "## Imports"
   ]
  },
  {
   "cell_type": "code",
   "execution_count": null,
   "id": "993d261e",
   "metadata": {},
   "outputs": [],
   "source": [
    "# utils\n",
    "import os\n",
    "import sys\n",
    "from pathlib import Path\n",
    "PROJECT_DIR = Path.cwd().parent\n",
    "sys.path.append(str(PROJECT_DIR))\n",
    "\n",
    "# basics\n",
    "import numpy as np\n",
    "import pandas as pd\n",
    "\n",
    "# viz\n",
    "import matplotlib.pyplot as plt\n",
    "from matplotlib.lines import Line2D\n",
    "import matplotlib.lines as mlines\n",
    "\n",
    "# metrics\n",
    "from utils import config\n",
    "from utils.reader import read_file_yaml\n",
    "\n",
    "np.random.seed(0)"
   ]
  },
  {
   "cell_type": "markdown",
   "id": "154f0544",
   "metadata": {},
   "source": [
    "## Parameters"
   ]
  },
  {
   "cell_type": "code",
   "execution_count": null,
   "id": "e9b46c13",
   "metadata": {},
   "outputs": [],
   "source": [
    "path_root = (\n",
    "    PROJECT_DIR\n",
    "    / \"results\"\n",
    ")\n",
    "path_conf = (\n",
    "    PROJECT_DIR\n",
    "    / \"conf\"\n",
    ")\n",
    "file_path_parameters = (\n",
    "    path_conf \n",
    "    / \"parameters.yml\"\n",
    ")\n",
    "path_outputs = (\n",
    "    PROJECT_DIR\n",
    "    / \"outputs\"\n",
    ")\n",
    "params = read_file_yaml(file_path_parameters)\n",
    "if not os.path.exists(path_outputs):\n",
    "    os.makedirs(path_outputs)\n",
    "    \n",
    "file_path_simulation_plot = (\n",
    "    path_outputs\n",
    "    / params[\"outputs\"][\"simulation_random\"][\"filepath\"]\n",
    ")\n",
    "    \n",
    "file_path_plot_i_dataset = (\n",
    "    path_outputs\n",
    "    / params[\"outputs\"][\"simulation_random\"][\"data_filepath\"]\n",
    ")\n",
    "n_random = np.sort([int(i.replace(\"random_n\",\"\"))for i in os.listdir(path_root)])\n",
    "path_random = [\n",
    "    \"random_n\"+str(i) for i in n_random\n",
    "]\n",
    "path_results = [path_root / i for i in path_random]"
   ]
  },
  {
   "cell_type": "code",
   "execution_count": null,
   "id": "5b4144d3",
   "metadata": {
    "tags": [
     "hide_input"
    ]
   },
   "outputs": [],
   "source": [
    "under_line = \"\\n{}\\n\"\n",
    "title_part_n2 = \"PROJECT_DIR: [ {} ]\".format(PROJECT_DIR)\n",
    "title_part_n3 = under_line.format(\n",
    "    \"\".join([\"-\"]*len(title_part_n2))\n",
    ")\n",
    "title_part_n1 = under_line.format(\n",
    "    \"\".join([\"-\"]*len(title_part_n2))\n",
    ")\n",
    "print(title_part_n1 + title_part_n2 + title_part_n3)"
   ]
  },
  {
   "cell_type": "markdown",
   "id": "2c076ad2",
   "metadata": {},
   "source": [
    "## Read"
   ]
  },
  {
   "cell_type": "code",
   "execution_count": null,
   "id": "95b6749e",
   "metadata": {},
   "outputs": [],
   "source": [
    "parameters = read_file_yaml(file_path_parameters)"
   ]
  },
  {
   "cell_type": "code",
   "execution_count": null,
   "id": "773c59d3",
   "metadata": {},
   "outputs": [],
   "source": [
    "path_metrics = []\n",
    "for name, url in zip(path_random, path_results):\n",
    "    _path_metrics = [\n",
    "        [f\"{name}_{dataset}\", os.path.getmtime(url / dataset / \"metrics\" / \"metrics.csv\")]\n",
    "        for dataset in os.listdir(url)\n",
    "    ]\n",
    "    path_metrics = path_metrics + _path_metrics\n",
    "init = int(pd.DataFrame(path_metrics).sort_values(1).iloc[0,0].split(\"_\")[1][1:])"
   ]
  },
  {
   "cell_type": "code",
   "execution_count": null,
   "id": "25e6c446",
   "metadata": {
    "lines_to_next_cell": 2
   },
   "outputs": [],
   "source": [
    "metrics = {\n",
    "    name: {\n",
    "        dataset: pd.read_csv(\n",
    "            url / dataset / \"metrics\" / \"metrics.csv\",\n",
    "            index_col = 0\n",
    "        ) for dataset in os.listdir(url)\n",
    "    }\n",
    "    for name, url in zip(path_random, path_results)\n",
    "}"
   ]
  },
  {
   "cell_type": "markdown",
   "id": "7ac03435",
   "metadata": {},
   "source": [
    "## Concat all results"
   ]
  },
  {
   "cell_type": "code",
   "execution_count": null,
   "id": "4d76e6ca",
   "metadata": {
    "scrolled": true
   },
   "outputs": [],
   "source": [
    "data = (\n",
    "    metrics[f\"random_n{init}\"][\"aniso\"]\n",
    "    .T\n",
    "    .filter(regex = \"^(?!.*random_model)\")\n",
    "    .T[[\"abilities\"]]\n",
    "    .reset_index()\n",
    ")\n",
    "data.rename(columns = {\n",
    "    \"abilities\": f\"n{init}_aniso\",\n",
    "    \"index\": \"model\"\n",
    "}, inplace = True)\n",
    "\n",
    "for random_n, content_n in metrics.items():\n",
    "    for name, content_dataset in content_n.items(): \n",
    "        if (random_n == f\"random_n{init}\")and(name == \"aniso\"):\n",
    "            continue\n",
    "        tmp = (\n",
    "            content_dataset\n",
    "            .T\n",
    "            .filter(regex = \"^(?!.*random_model)\")\n",
    "            .T[[\"abilities\"]]\n",
    "            .reset_index()\n",
    "        )\n",
    "        tmp.rename(columns = {\n",
    "            \"abilities\": \"n{}_{}\".format(\n",
    "                random_n.replace(\"random_n\",\"\"),\n",
    "                name\n",
    "            ),\n",
    "            \"index\": \"model\"\n",
    "        }, inplace = True)\n",
    "        data = data.merge(tmp, on = [\"model\"])\n",
    "data.set_index(\"model\", inplace = True)"
   ]
  },
  {
   "cell_type": "code",
   "execution_count": null,
   "id": "409209aa",
   "metadata": {
    "scrolled": true
   },
   "outputs": [],
   "source": [
    "datasets = {}\n",
    "for i in config.file_names:\n",
    "    datasets[i] = data.filter(regex = r\"{}\".format(i))\n",
    "    datasets[i].columns = datasets[i].columns.str.replace(\"_\"+i, \"\")"
   ]
  },
  {
   "cell_type": "markdown",
   "id": "a1eb2a73",
   "metadata": {},
   "source": [
    "## Plots"
   ]
  },
  {
   "cell_type": "code",
   "execution_count": null,
   "id": "843e74a9",
   "metadata": {},
   "outputs": [],
   "source": [
    "models = list(config.models.keys())+[\"average_model\", \"optimal_clustering\"]\n",
    "gray_scale = [str(i/len(models)) for i in range(1, len(models))]\n",
    "colors = plt.cm.coolwarm(np.linspace(0, 1, len(models)))\n",
    "markers = list(mlines.Line2D.markers.keys())\n",
    "\n",
    "_params = {\n",
    "    _model: {\n",
    "        \"color\": colors[_idx],\n",
    "        \"marker\": markers[_idx],\n",
    "        \"linestyle\": '--' \n",
    "    } for _idx, _model in enumerate(models)\n",
    "}\n",
    "handler_lines = [\n",
    "    Line2D([], [], \n",
    "           color = param[\"color\"],\n",
    "           linestyle = param[\"linestyle\"],\n",
    "           marker = param[\"marker\"]) for param in _params.values()\n",
    "    ]"
   ]
  },
  {
   "cell_type": "code",
   "execution_count": null,
   "id": "5014cbc7",
   "metadata": {},
   "outputs": [],
   "source": [
    "## by dataset\n",
    "figs_dataset = {}\n",
    "for name, content in datasets.items():\n",
    "    _fig, ax = plt.subplots(1, 1, figsize=(20, 8))\n",
    "    \n",
    "    for line_name, line_data in content.iterrows():\n",
    "        for idx, i in enumerate(models):\n",
    "            if i in line_name:\n",
    "                _line_index = []\n",
    "                for k in line_data.index.str.split(\"n\"):\n",
    "                    _line_index.append(\"$p_{(\"+k[1]+\")}$\")\n",
    "                linestyle = '--'\n",
    "                ax.plot(_line_index, line_data, **_params[i])\n",
    "                _line_index = []\n",
    "    ax.grid(True)\n",
    "    ax.set_title(name)\n",
    "    ax.set_ylabel(\"$abilities$\")\n",
    "    ax.set_xlabel('$n\\_random\\_model$')\n",
    "    ax.legend(handler_lines, models, loc='upper left', bbox_to_anchor=(1.00, 1.0))\n",
    "    figs_dataset[name] = _fig\n",
    "    plt.ioff()"
   ]
  },
  {
   "cell_type": "code",
   "execution_count": null,
   "id": "e7de024c",
   "metadata": {},
   "outputs": [],
   "source": [
    "## global plot\n",
    "fig, axes = plt.subplots(len(datasets.keys()), 1, figsize=(20, 8*len(datasets)))\n",
    "\n",
    "if not isinstance(axes, np.ndarray):\n",
    "    axes = [axes]\n",
    "\n",
    "for ax, (name, content) in zip(axes, datasets.items()):\n",
    "    for line_name, line_data in content.iterrows():\n",
    "        for idx, i in enumerate(models):\n",
    "            if i in line_name:\n",
    "                _line_index = []\n",
    "                for k in line_data.index.str.split(\"n\"):\n",
    "                    _line_index.append(\"$p_{(\"+k[1]+\")}$\")\n",
    "                linestyle = '--'\n",
    "                ax.plot(_line_index, line_data, **_params[i])\n",
    "                _line_index = []\n",
    "    ax.grid(True)\n",
    "    ax.set_title(name)\n",
    "    ax.set_ylabel(\"$abilities$\")\n",
    "\n",
    "axes[-1].set_xlabel('$n\\_random\\_model$')\n",
    "handler_lines = [Line2D([], [], color=param[\"color\"], linestyle=param[\"linestyle\"], marker=param[\"marker\"]) for param in _params.values()]\n",
    "axes[0].legend(handler_lines, models, loc='upper left', bbox_to_anchor=(1.00, 1.0))\n",
    "plt.ioff()"
   ]
  },
  {
   "cell_type": "markdown",
   "id": "0eb2db91",
   "metadata": {},
   "source": [
    "## Save"
   ]
  },
  {
   "cell_type": "code",
   "execution_count": null,
   "id": "739e2373",
   "metadata": {},
   "outputs": [],
   "source": [
    "fig.savefig(str(file_path_simulation_plot)+\".eps\") # save eps format\n",
    "fig.savefig(str(file_path_simulation_plot)+\".png\") # save png format"
   ]
  },
  {
   "cell_type": "code",
   "execution_count": null,
   "id": "4c5791d7",
   "metadata": {},
   "outputs": [],
   "source": [
    "for name, content in figs_dataset.items():\n",
    "    content.savefig(str(file_path_plot_i_dataset).format(name)+\".eps\") # save eps format\n",
    "    content.savefig(str(file_path_plot_i_dataset).format(name)+\".png\") # save png format"
   ]
  }
 ],
 "metadata": {
  "jupyter": {
   "source_hidden": true
  },
  "jupytext": {
   "cell_metadata_filter": "-all",
   "encoding": "# coding: utf-8",
   "executable": "/usr/bin/env python",
   "main_language": "python",
   "notebook_metadata_filter": "-all"
  },
  "kernelspec": {
   "display_name": "Python 3 (ipykernel)",
   "language": "python",
   "name": "python3"
  },
  "language_info": {
   "codemirror_mode": {
    "name": "ipython",
    "version": 3
   },
   "file_extension": ".py",
   "mimetype": "text/x-python",
   "name": "python",
   "nbconvert_exporter": "python",
   "pygments_lexer": "ipython3",
   "version": "3.10.6"
  }
 },
 "nbformat": 4,
 "nbformat_minor": 5
}
