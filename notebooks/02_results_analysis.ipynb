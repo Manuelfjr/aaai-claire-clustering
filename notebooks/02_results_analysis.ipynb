{
 "cells": [
  {
   "cell_type": "markdown",
   "id": "0cb1be97",
   "metadata": {},
   "source": [
    "## Imports"
   ]
  },
  {
   "cell_type": "code",
   "execution_count": null,
   "id": "993d261e",
   "metadata": {},
   "outputs": [],
   "source": [
    "# utils\n",
    "import os\n",
    "import sys\n",
    "from pathlib import Path\n",
    "PROJECT_DIR = Path.cwd().parent\n",
    "sys.path.append(str(PROJECT_DIR))\n",
    "\n",
    "# basics\n",
    "import numpy as np\n",
    "import pandas as pd\n",
    "\n",
    "# viz\n",
    "import matplotlib.pyplot as plt\n",
    "import matplotlib.lines as mlines\n",
    "\n",
    "# metrics\n",
    "from utils import config\n",
    "from utils.reader import read_file_yaml\n",
    "\n",
    "np.random.seed(0)"
   ]
  },
  {
   "cell_type": "code",
   "execution_count": null,
   "id": "e9b46c13",
   "metadata": {},
   "outputs": [],
   "source": [
    "path_root = (\n",
    "    PROJECT_DIR\n",
    "    / \"results\"\n",
    ")\n",
    "path_conf = (\n",
    "    PROJECT_DIR\n",
    "    / \"conf\"\n",
    ")\n",
    "file_path_parameters = (\n",
    "    path_conf \n",
    "    / \"parameters.yml\"\n",
    ")\n",
    "\n",
    "n_random = np.sort([int(i.replace(\"random_n\",\"\"))for i in os.listdir(path_root)])\n",
    "path_random = [\n",
    "    \"random_n\"+str(i) for i in n_random\n",
    "]\n",
    "path_results = [path_root / i for i in path_random]"
   ]
  },
  {
   "cell_type": "code",
   "execution_count": null,
   "id": "5b4144d3",
   "metadata": {
    "tags": [
     "hide_input"
    ]
   },
   "outputs": [],
   "source": [
    "under_line = \"\\n{}\\n\"\n",
    "title_part_n2 = \"PROJECT_DIR: [ {} ]\".format(PROJECT_DIR)\n",
    "title_part_n3 = under_line.format(\n",
    "    \"\".join([\"-\"]*len(title_part_n2))\n",
    ")\n",
    "title_part_n1 = under_line.format(\n",
    "    \"\".join([\"-\"]*len(title_part_n2))\n",
    ")\n",
    "print(title_part_n1 + title_part_n2 + title_part_n3)"
   ]
  },
  {
   "cell_type": "markdown",
   "id": "2c076ad2",
   "metadata": {},
   "source": [
    "## Read"
   ]
  },
  {
   "cell_type": "code",
   "execution_count": null,
   "id": "95b6749e",
   "metadata": {},
   "outputs": [],
   "source": [
    "parameters = read_file_yaml(file_path_parameters)"
   ]
  },
  {
   "cell_type": "code",
   "execution_count": null,
   "id": "25e6c446",
   "metadata": {
    "lines_to_next_cell": 2
   },
   "outputs": [],
   "source": [
    "metrics = {\n",
    "    name: {\n",
    "        dataset: pd.read_csv(\n",
    "            url / dataset / \"metrics\" / \"metrics.csv\",\n",
    "            index_col = 0\n",
    "        ) for dataset in os.listdir(url)\n",
    "    }\n",
    "    for name, url in zip(path_random, path_results)\n",
    "}"
   ]
  },
  {
   "cell_type": "markdown",
   "id": "7ac03435",
   "metadata": {},
   "source": [
    "## Concat all results"
   ]
  },
  {
   "cell_type": "code",
   "execution_count": null,
   "id": "4d76e6ca",
   "metadata": {
    "scrolled": true
   },
   "outputs": [],
   "source": [
    "data = (\n",
    "    metrics[\"random_n1\"][\"aniso\"]\n",
    "    .T\n",
    "    .filter(regex = \"^(?!.*random_model)\")\n",
    "    .T[[\"abilities\"]]\n",
    "    .reset_index()\n",
    ")\n",
    "data.rename(columns = {\n",
    "    \"abilities\": \"n1_aniso\",\n",
    "    \"index\": \"model\"\n",
    "}, inplace = True)\n",
    "\n",
    "for random_n, content_n in metrics.items():\n",
    "    for name, content_dataset in content_n.items(): \n",
    "        if (random_n == \"random_n1\")and(name == \"aniso\"):\n",
    "            continue\n",
    "        tmp = (\n",
    "            content_dataset\n",
    "            .T\n",
    "            .filter(regex = \"^(?!.*random_model)\")\n",
    "            .T[[\"abilities\"]]\n",
    "            .reset_index()\n",
    "        )\n",
    "        tmp.rename(columns = {\n",
    "            \"abilities\": \"n{}_{}\".format(\n",
    "                random_n.replace(\"random_n\",\"\"),\n",
    "                name\n",
    "            ),\n",
    "            \"index\": \"model\"\n",
    "        }, inplace = True)\n",
    "        data = data.merge(tmp, on = [\"model\"])\n",
    "data.set_index(\"model\", inplace = True)"
   ]
  },
  {
   "cell_type": "code",
   "execution_count": null,
   "id": "409209aa",
   "metadata": {
    "scrolled": true
   },
   "outputs": [],
   "source": [
    "datasets = {}\n",
    "for i in config.file_names[:(-1)]:\n",
    "    datasets[i] = data.filter(regex = r\"{}\".format(i))\n",
    "    datasets[i].columns = datasets[i].columns.str.replace(\"_\"+i, \"\")"
   ]
  },
  {
   "cell_type": "markdown",
   "id": "a1eb2a73",
   "metadata": {},
   "source": [
    "## Plots"
   ]
  },
  {
   "cell_type": "code",
   "execution_count": null,
   "id": "843e74a9",
   "metadata": {},
   "outputs": [],
   "source": [
    "models = list(config.models.keys()) + [\"average_model\", \"optimal_clustering\"]\n",
    "gray_scale = [str(i/len(models)) for i in range(1, len(models) + 1)]\n",
    "# colors = [\n",
    "#     f'#{int(float(gray) * 255):02x}{int(float(gray) * 255):02x}{int(float(gray) * 255):02x}' for gray in gray_scale\n",
    "# ]\n",
    "colors = plt.cm.coolwarm(np.linspace(0, 1, len(models)))\n",
    "markers = list(mlines.Line2D.markers.keys())\n",
    "\n",
    "fig, axes = plt.subplots(len(datasets.keys()), 1, figsize=(14, 8*len(datasets)))\n",
    "\n",
    "if not isinstance(axes, np.ndarray):\n",
    "    axes = [axes]\n",
    "\n",
    "for ax, (name, content) in zip(axes, datasets.items()):\n",
    "    for line_name, line_data in content.iterrows():\n",
    "        for idx, i in enumerate(models):\n",
    "            if i in line_name:\n",
    "                _line_index = []\n",
    "                for k in line_data.index.str.split(\"n\"):\n",
    "                    _line_index.append(\"$n_{(\"+k[1]+\")}$\")\n",
    "                linestyle = '--' \n",
    "                ax.plot(_line_index, line_data, label=i, color=colors[idx], linestyle=linestyle, marker=markers[idx])\n",
    "                _line_index = []\n",
    "    ax.grid(True)\n",
    "    ax.set_title(name)\n",
    "    ax.set_ylabel(\"$abilities$\")\n",
    "\n",
    "axes[-1].set_xlabel('$n\\_random\\_model$')\n",
    "axes[0].legend(models, loc='upper left', bbox_to_anchor=(1.05, 1.0))\n",
    "plt.show()\n"
   ]
  },
  {
   "cell_type": "code",
   "execution_count": null,
   "id": "a7567b48",
   "metadata": {},
   "outputs": [],
   "source": []
  }
 ],
 "metadata": {
  "jupyter": {
   "source_hidden": true
  },
  "jupytext": {
   "cell_metadata_filter": "-all",
   "encoding": "# coding: utf-8",
   "executable": "/usr/bin/env python",
   "main_language": "python",
   "notebook_metadata_filter": "-all"
  },
  "kernelspec": {
   "display_name": "Python 3 (ipykernel)",
   "language": "python",
   "name": "python3"
  },
  "language_info": {
   "codemirror_mode": {
    "name": "ipython",
    "version": 3
   },
   "file_extension": ".py",
   "mimetype": "text/x-python",
   "name": "python",
   "nbconvert_exporter": "python",
   "pygments_lexer": "ipython3",
   "version": "3.10.6"
  }
 },
 "nbformat": 4,
 "nbformat_minor": 5
}
