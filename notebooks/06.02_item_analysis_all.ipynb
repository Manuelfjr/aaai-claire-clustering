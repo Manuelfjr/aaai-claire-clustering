{
 "cells": [
  {
   "cell_type": "markdown",
   "id": "1e718e91",
   "metadata": {},
   "source": [
    "## Imports"
   ]
  },
  {
   "cell_type": "code",
   "execution_count": null,
   "id": "32a6bfa3",
   "metadata": {},
   "outputs": [],
   "source": [
    "# utils\n",
    "import os\n",
    "import sys\n",
    "from pathlib import Path\n",
    "\n",
    "PROJECT_DIR = Path.cwd().parent\n",
    "sys.path.append(str(PROJECT_DIR))\n",
    "\n",
    "import warnings\n",
    "\n",
    "# viz\n",
    "import matplotlib.pyplot as plt\n",
    "# basics\n",
    "import numpy as np\n",
    "import pandas as pd\n",
    "# metrics\n",
    "from tqdm import tqdm\n",
    "\n",
    "# metrics\n",
    "from utils import config\n",
    "from utils.reader import read_file_yaml\n",
    "from utils.utils import get_last_modification_directory\n",
    "\n",
    "warnings.filterwarnings(\"ignore\")"
   ]
  },
  {
   "cell_type": "markdown",
   "id": "e9a1653c",
   "metadata": {},
   "source": [
    "## Parameters"
   ]
  },
  {
   "cell_type": "code",
   "execution_count": null,
   "id": "d6a89282",
   "metadata": {},
   "outputs": [],
   "source": [
    "path_outputs = PROJECT_DIR / \"outputs\"\n",
    "path_data_url = PROJECT_DIR / \"data\"\n",
    "file_path_parameters = PROJECT_DIR / \"conf\" / \"parameters.yml\"\n",
    "parameters = read_file_yaml(file_path_parameters)\n",
    "path_results = PROJECT_DIR / parameters[\"results\"][\"filepath\"]\n",
    "path_results_url = PROJECT_DIR / parameters[\"results\"][\"filepath\"]\n",
    "ext_type = parameters[\"outputs\"][\"extension_type\"]\n",
    "ext_local_img = parameters[\"outputs\"][\"extension_local_img\"]\n",
    "ext_best_img = parameters[\"outputs\"][\"extension_best_img\"]\n",
    "\n",
    "n_random = np.sort(\n",
    "    [int(i.replace(\"random_n\", \"\")) for i in os.listdir(path_results_url) if \".placehold\" not in i]\n",
    ")\n",
    "path_random = [\"random_n\" + str(i) for i in n_random]\n",
    "path_results = [path_results_url / i for i in path_random]\n",
    "\n",
    "_, path_random = get_last_modification_directory(path_results, path_random, parameters)\n",
    "\n",
    "file_path_abi_diff = {\n",
    "    i_name: {\n",
    "        name: {\n",
    "            _param: i / name / \"params\" / Path(_param + ext_type)\n",
    "            for _param in [\"abilities\", \"diff_disc\"]\n",
    "        }\n",
    "        for name in config.file_names\n",
    "    }\n",
    "    for i, i_name in zip(path_results, path_random)\n",
    "}\n",
    "\n",
    "file_path_pij = {\n",
    "    i_name: {\n",
    "        name: {_param: i / name / \"pij\" / Path(_param + ext_type) for _param in [\"pij_true\", \"pij_pred\"]}\n",
    "        for name in config.file_names\n",
    "    }\n",
    "    for i, i_name in zip(path_results, path_random)\n",
    "}"
   ]
  },
  {
   "cell_type": "markdown",
   "id": "9be2f925",
   "metadata": {},
   "source": [
    "## Read datasets"
   ]
  },
  {
   "cell_type": "code",
   "execution_count": null,
   "id": "1dd4e1d9",
   "metadata": {
    "scrolled": true
   },
   "outputs": [],
   "source": [
    "# params\n",
    "data_params = {\n",
    "    i_random: {\n",
    "        j_name: {k_param: pd.read_csv(k_content, index_col=0) for k_param, k_content in j_content.items()}\n",
    "        for j_name, j_content in i_content.items()\n",
    "    }\n",
    "    for i_random, i_content in file_path_abi_diff.items()\n",
    "}"
   ]
  },
  {
   "cell_type": "code",
   "execution_count": null,
   "id": "0e587c9c",
   "metadata": {},
   "outputs": [],
   "source": [
    "# pij\n",
    "data_pij = {\n",
    "    i_random: {\n",
    "        j_name: {k_param: pd.read_csv(k_content, index_col=0) for k_param, k_content in j_content.items()}\n",
    "        for j_name, j_content in i_content.items()\n",
    "    }\n",
    "    for i_random, i_content in file_path_pij.items()\n",
    "}"
   ]
  },
  {
   "cell_type": "markdown",
   "id": "1814a34f-d7f4-4345-9fb8-5a551c8055d5",
   "metadata": {},
   "source": [
    "## Unique plot"
   ]
  },
  {
   "cell_type": "code",
   "execution_count": null,
   "id": "39b335cc-1192-47f2-95e4-e7db3d30244f",
   "metadata": {},
   "outputs": [],
   "source": [
    "markers = [\".\", \"o\", \"v\", \"^\", \"1\", \"2\", \"s\", \"p\", \"P\"]\n",
    "figs_unique = {}\n",
    "xy_fontsize = 26\n",
    "for i_random in tqdm(path_random[:1]):\n",
    "    figs_unique[i_random] = {}\n",
    "    _fig_abi, _axes_abi = plt.subplots(1, 1, figsize=(10, 8), **parameters[\"outputs\"][\"args\"])\n",
    "    _fig_diff, _axes_diff = plt.subplots(1, 1, figsize=(10, 8), **parameters[\"outputs\"][\"args\"])\n",
    "    abi_concat = pd.DataFrame(columns=[\"index\", \"avg_response\", \"abilities\"])\n",
    "    for idx, (i_name, i_content) in enumerate(list(data_pij[i_random].items())):\n",
    "        pij_true = i_content[\"pij_true\"].copy()\n",
    "        abilities = data_params[i_random][i_name][\"abilities\"]\n",
    "        diffs = data_params[i_random][i_name][\"diff_disc\"]\n",
    "        response = (\n",
    "            pij_true\n",
    "            .T\n",
    "            .mean(axis=1)\n",
    "            .to_frame(\"avg_response\")\n",
    "            .reset_index()\n",
    "            .merge(abilities.reset_index(), on=[\"index\"])\n",
    "        )\n",
    "        abi_concat = pd.concat([abi_concat, response], ignore_index=True)\n",
    "        response_models = (\n",
    "            response[~response[\"index\"].str.startswith(\"random_model_n\")].copy()\n",
    "        )\n",
    "        response_random = (\n",
    "            response[response[\"index\"].str.startswith(\"random_model_n\")].copy()\n",
    "        )\n",
    "        _params_plot = [\n",
    "            {\n",
    "                \"x\": _param[0],\n",
    "                \"y\": _param[1],\n",
    "                \"marker\": markers[idx]\n",
    "            }\n",
    "            for _param in [\n",
    "                [response_models[\"avg_response\"].values, response_models[\"abilities\"].values],\n",
    "                [pij_true.mean(axis=1).values, diffs[\"difficulty\"].values],\n",
    "            ]\n",
    "        ]\n",
    "\n",
    "        for idx_param, _param in enumerate(_params_plot):\n",
    "            if idx_param == 1:\n",
    "                # _param = _param | {\"c\": diffs[\"discrimination\"].values}\n",
    "                _axes_diff.set_xlabel(\"average item response\", fontsize=xy_fontsize)\n",
    "                _axes_diff.set_ylabel(\"difficulties\", fontsize=xy_fontsize)\n",
    "                scatter = _axes_diff.scatter(label=i_name.title().replace(\"_\", \" \"), **_param)\n",
    "                # cbar = plt.colorbar(scatter, ax=_axes_diff)\n",
    "                # cbar.set_label(\"discrimination\")\n",
    "                # _axes_diff.set_title(\n",
    "                #     r\"$\\rho = $\" + \" {:.5}\".format(np.corrcoef(_param[\"x\"], _param[\"y\"])[0, 1]),\n",
    "                #     loc=\"center\",\n",
    "                #     fontsize = xy_fontsize+2\n",
    "                # )\n",
    "                _axes_diff.legend(loc='upper right', fontsize=16)\n",
    "            else:\n",
    "                _axes_abi.set_xlabel(\"average model response\", fontsize=xy_fontsize)\n",
    "                _axes_abi.set_ylabel(\"abilities\", fontsize=xy_fontsize)\n",
    "\n",
    "                if i_random != \"random_n0\":\n",
    "                    _param.update({\"label\": \"models\"})\n",
    "                else:\n",
    "                    scatter = _axes_abi.scatter(label=i_name.title().replace(\"_\", \" \"), **_param)\n",
    "                    _axes_abi.legend(loc='lower right', fontsize=16)\n",
    "                if i_random != \"random_n0\":\n",
    "                    _axes_abi.scatter(\n",
    "                        x=response_random[\"avg_response\"].values,\n",
    "                        y=response_random[\"abilities\"].values,\n",
    "                        c=\"red\",\n",
    "                        label=r\"$p = {}$\".format(len(response_random[\"avg_response\"].values))\n",
    "                    )\n",
    "                    _axes_abi.legend(fontsize=26)\n",
    "\n",
    "            _axes_abi.grid(True)\n",
    "            _axes_diff.grid(True)\n",
    "\n",
    "        _fig_abi.tight_layout()\n",
    "        _fig_diff.tight_layout()\n",
    "        plt.close()\n",
    "    del abi_concat\n",
    "    figs_unique[i_random] = {\n",
    "        \"abilities\": {\n",
    "            \"figure\": _fig_abi,\n",
    "            \"file_path\": (\n",
    "                path_outputs / Path(\"_\".join([i_random, \"abi\", \"versus\", \"all\"]) + ext_local_img)\n",
    "            )\n",
    "        },\n",
    "        \"difficulties\": {\n",
    "            \"figure\": _fig_diff,\n",
    "            \"file_path\": (\n",
    "                path_outputs / Path(\"_\".join([i_random, \"diff\", \"versus\", \"all\"]) + ext_local_img)\n",
    "            )\n",
    "        }\n",
    "    }"
   ]
  },
  {
   "cell_type": "markdown",
   "id": "f61bc9e8",
   "metadata": {},
   "source": [
    "## Save"
   ]
  },
  {
   "cell_type": "code",
   "execution_count": null,
   "id": "3b7093a5",
   "metadata": {
    "scrolled": true
   },
   "outputs": [],
   "source": [
    "for i_random, i_content in tqdm(list(figs_unique.items())):\n",
    "    for which_param, contents in i_content.items():\n",
    "        _fig, _file_path = contents[\"figure\"], contents[\"file_path\"]\n",
    "        _fig.savefig(_file_path, **parameters[\"outputs\"][\"args\"])"
   ]
  },
  {
   "cell_type": "code",
   "execution_count": null,
   "id": "59cb606c-803d-4a76-a68f-63094a753d4a",
   "metadata": {},
   "outputs": [],
   "source": []
  }
 ],
 "metadata": {
  "jupytext": {
   "cell_metadata_filter": "-all",
   "encoding": "# coding: utf-8",
   "executable": "/usr/bin/env python",
   "main_language": "python",
   "notebook_metadata_filter": "-all"
  },
  "kernelspec": {
   "display_name": "Python 3 (ipykernel)",
   "language": "python",
   "name": "python3"
  },
  "language_info": {
   "codemirror_mode": {
    "name": "ipython",
    "version": 3
   },
   "file_extension": ".py",
   "mimetype": "text/x-python",
   "name": "python",
   "nbconvert_exporter": "python",
   "pygments_lexer": "ipython3",
   "version": "3.10.12"
  }
 },
 "nbformat": 4,
 "nbformat_minor": 5
}
