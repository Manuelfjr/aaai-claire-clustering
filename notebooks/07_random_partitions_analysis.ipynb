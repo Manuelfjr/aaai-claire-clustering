{
 "cells": [
  {
   "cell_type": "markdown",
   "id": "0cb1be97",
   "metadata": {},
   "source": [
    "## Imports"
   ]
  },
  {
   "cell_type": "code",
   "execution_count": null,
   "id": "993d261e",
   "metadata": {},
   "outputs": [],
   "source": [
    "# utils\n",
    "import os\n",
    "import sys\n",
    "from pathlib import Path\n",
    "\n",
    "PROJECT_DIR = Path.cwd().parent\n",
    "sys.path.append(str(PROJECT_DIR))\n",
    "\n",
    "# viz\n",
    "import matplotlib.lines as mlines\n",
    "import matplotlib.pyplot as plt\n",
    "# basics\n",
    "import numpy as np\n",
    "import pandas as pd\n",
    "from matplotlib.lines import Line2D\n",
    "\n",
    "# metrics\n",
    "from utils.reader import read_file_yaml\n",
    "\n",
    "np.random.seed(0)"
   ]
  },
  {
   "cell_type": "markdown",
   "id": "154f0544",
   "metadata": {},
   "source": [
    "## Parameters"
   ]
  },
  {
   "cell_type": "code",
   "execution_count": null,
   "id": "e9b46c13",
   "metadata": {
    "scrolled": true
   },
   "outputs": [],
   "source": [
    "path_root = PROJECT_DIR / \"results\"\n",
    "\n",
    "path_conf = PROJECT_DIR / \"conf\"\n",
    "file_path_parameters = path_conf / \"parameters.yml\"\n",
    "path_outputs = PROJECT_DIR / \"outputs\"\n",
    "\n",
    "params = read_file_yaml(file_path_parameters)\n",
    "\n",
    "\n",
    "if not os.path.exists(path_outputs):\n",
    "    os.makedirs(path_outputs)\n",
    "\n",
    "file_path_random_abilities = path_outputs / \"random_partitions_ability{}\"\n",
    "\n",
    "n_random = np.sort([int(i.replace(\"random_n\", \"\")) for i in os.listdir(path_root) if \".placehold\" not in i])\n",
    "path_random = [\"random_n\" + str(i) for i in n_random]\n",
    "path_results = [path_root / i for i in path_random]\n",
    "\n",
    "ext_type = params[\"outputs\"][\"extension_type\"]\n",
    "ext_local_img = params[\"outputs\"][\"extension_local_img\"]\n",
    "ext_best_img = params[\"outputs\"][\"extension_best_img\"]"
   ]
  },
  {
   "cell_type": "code",
   "execution_count": null,
   "id": "5b4144d3",
   "metadata": {
    "tags": [
     "hide_input"
    ]
   },
   "outputs": [],
   "source": [
    "under_line = \"\\n{}\\n\"\n",
    "title_part_n2 = \"PROJECT_DIR: [ {} ]\".format(PROJECT_DIR)\n",
    "title_part_n3 = under_line.format(\"\".join([\"-\"] * len(title_part_n2)))\n",
    "title_part_n1 = under_line.format(\"\".join([\"-\"] * len(title_part_n2)))\n",
    "print(title_part_n1 + title_part_n2 + title_part_n3)"
   ]
  },
  {
   "cell_type": "markdown",
   "id": "2c076ad2",
   "metadata": {},
   "source": [
    "## Read"
   ]
  },
  {
   "cell_type": "code",
   "execution_count": null,
   "id": "95b6749e",
   "metadata": {},
   "outputs": [],
   "source": [
    "parameters = read_file_yaml(file_path_parameters)"
   ]
  },
  {
   "cell_type": "code",
   "execution_count": null,
   "id": "25e6c446",
   "metadata": {
    "lines_to_next_cell": 2
   },
   "outputs": [],
   "source": [
    "init = 1\n",
    "metrics = {}\n",
    "for name, url in zip(path_random, path_results):\n",
    "    metrics[name] = {}\n",
    "    for dataset in os.listdir(url):\n",
    "        metrics[name][dataset] = pd.read_csv(url / Path(dataset) / \"metrics\" / Path(\"metrics\" + ext_type), index_col=0)"
   ]
  },
  {
   "cell_type": "markdown",
   "id": "7ac03435",
   "metadata": {},
   "source": [
    "## Concat all results"
   ]
  },
  {
   "cell_type": "code",
   "execution_count": null,
   "id": "4d76e6ca",
   "metadata": {
    "scrolled": true
   },
   "outputs": [],
   "source": [
    "result = {}\n",
    "for i_random, i_content in metrics.items():\n",
    "    result[i_random] = {}\n",
    "    for i_name, i_metric in i_content.items():\n",
    "        result[i_random][i_name] = i_metric[\"abilities\"].filter(regex=\"random_model\").mean()\n",
    "data = pd.DataFrame(result)"
   ]
  },
  {
   "cell_type": "code",
   "execution_count": null,
   "id": "b008db29",
   "metadata": {},
   "outputs": [],
   "source": [
    "new_columns = {col: f\"$p_{{({i+1})}}$\" for i, col in enumerate(data.columns)}\n",
    "data.rename(columns=new_columns, inplace=True)"
   ]
  },
  {
   "cell_type": "markdown",
   "id": "59b9bf1e",
   "metadata": {},
   "source": [
    "## Plot parameters"
   ]
  },
  {
   "cell_type": "code",
   "execution_count": null,
   "id": "a7f41a21",
   "metadata": {},
   "outputs": [],
   "source": [
    "colors = plt.cm.coolwarm(np.linspace(0, 1, data.shape[0]))\n",
    "markers = list(mlines.Line2D.markers.keys())\n",
    "\n",
    "_params = {\n",
    "    _dataset: {\"color\": colors[_idx], \"marker\": markers[_idx], \"linestyle\": \"--\"}\n",
    "    for _idx, _dataset in enumerate(data.index)\n",
    "}"
   ]
  },
  {
   "cell_type": "markdown",
   "id": "a1eb2a73",
   "metadata": {},
   "source": [
    "## Plots"
   ]
  },
  {
   "cell_type": "code",
   "execution_count": null,
   "id": "8ff99690",
   "metadata": {},
   "outputs": [],
   "source": [
    "fig, ax = plt.subplots(1, 1, figsize= ((20/8)*data.shape[0], 10))\n",
    "\n",
    "for index, row in data.iterrows():\n",
    "    param = _params[index]\n",
    "    ax.plot(row, label=index, **param)\n",
    "\n",
    "ax.legend()\n",
    "ax.grid(True)\n",
    "ax.set_title(\"average estimated ability for random partitions ($p_{max}$\" + f\" = {data.shape[1]})\")\n",
    "ax.set_xticklabels(data.columns, rotation=0)  # Set rotation to 0 for horizontal labels\n",
    "ax.set_xlabel(r\"$n\\_random\\_model$\")\n",
    "ax.set_ylabel(\"$abilities$\")\n",
    "handler_lines = [\n",
    "    Line2D([], [], color=param[\"color\"], linestyle=param[\"linestyle\"], marker=param[\"marker\"])\n",
    "    for param in _params.values()\n",
    "]\n",
    "ax.legend(handler_lines, data.index, loc=\"upper left\", bbox_to_anchor=(1.00, 1.0))\n",
    "plt.show()"
   ]
  },
  {
   "cell_type": "markdown",
   "id": "0eb2db91",
   "metadata": {},
   "source": [
    "## Save"
   ]
  },
  {
   "cell_type": "code",
   "execution_count": null,
   "id": "739e2373",
   "metadata": {},
   "outputs": [],
   "source": [
    "fig.savefig(str(file_path_random_abilities).format(ext_best_img))  # save best format\n",
    "fig.savefig(str(file_path_random_abilities).format(ext_local_img))  # save local format"
   ]
  },
  {
   "cell_type": "code",
   "execution_count": null,
   "id": "75df6274",
   "metadata": {},
   "outputs": [],
   "source": []
  }
 ],
 "metadata": {
  "jupyter": {
   "source_hidden": true
  },
  "jupytext": {
   "cell_metadata_filter": "-all",
   "encoding": "# coding: utf-8",
   "executable": "/usr/bin/env python",
   "main_language": "python",
   "notebook_metadata_filter": "-all"
  },
  "kernelspec": {
   "display_name": "Python 3 (ipykernel)",
   "language": "python",
   "name": "python3"
  },
  "language_info": {
   "codemirror_mode": {
    "name": "ipython",
    "version": 3
   },
   "file_extension": ".py",
   "mimetype": "text/x-python",
   "name": "python",
   "nbconvert_exporter": "python",
   "pygments_lexer": "ipython3",
   "version": "3.10.11"
  }
 },
 "nbformat": 4,
 "nbformat_minor": 5
}
