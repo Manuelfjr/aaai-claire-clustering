{
 "cells": [
  {
   "cell_type": "markdown",
   "id": "bf059b3a",
   "metadata": {},
   "source": [
    "## Imports"
   ]
  },
  {
   "cell_type": "code",
   "execution_count": null,
   "id": "37ce5ccb",
   "metadata": {},
   "outputs": [],
   "source": [
    "# utils\n",
    "import os\n",
    "import sys\n",
    "from pathlib import Path\n",
    "PROJECT_DIR = Path.cwd().parent\n",
    "sys.path.append(str(PROJECT_DIR))\n",
    "\n",
    "# basics\n",
    "import numpy as np\n",
    "import pandas as pd\n",
    "from tqdm import tqdm\n",
    "\n",
    "# viz\n",
    "import matplotlib.pyplot as plt\n",
    "import seaborn as sns\n",
    "from matplotlib.backends.backend_agg import FigureCanvasAgg\n",
    "\n",
    "# metrics\n",
    "from utils import config\n",
    "from utils.reader import read_file_yaml\n",
    "\n",
    "np.random.seed(0)"
   ]
  },
  {
   "cell_type": "markdown",
   "id": "fa63213f",
   "metadata": {},
   "source": [
    "## Reading datasets"
   ]
  },
  {
   "cell_type": "code",
   "execution_count": null,
   "id": "61fa95d3",
   "metadata": {},
   "outputs": [],
   "source": [
    "path_root = (\n",
    "    PROJECT_DIR\n",
    "    / \"results\"\n",
    ")\n",
    "path_outputs = (\n",
    "    PROJECT_DIR\n",
    "    / \"outputs\"\n",
    ")\n",
    "path_conf = (\n",
    "    PROJECT_DIR\n",
    "    / \"conf\"\n",
    ")\n",
    "file_path_parameters = (\n",
    "    path_conf \n",
    "    / \"parameters.yml\"\n",
    ")\n",
    "\n",
    "params = read_file_yaml(file_path_parameters)\n",
    "     \n",
    "n_random = np.sort([int(i.replace(\"random_n\",\"\"))for i in os.listdir(path_root) if \".placehold\"not in i])\n",
    "path_random = [\n",
    "    \"random_n\"+str(i) for i in n_random\n",
    "]\n",
    "path_results = [path_root / i for i in path_random]"
   ]
  },
  {
   "cell_type": "code",
   "execution_count": null,
   "id": "96a351e4",
   "metadata": {
    "lines_to_next_cell": 2
   },
   "outputs": [],
   "source": [
    "file_path_corr = {\n",
    "    str(i).split(\"/\")[-1]: {\n",
    "        j: {\n",
    "            \"url\": i / j / \"correlation\",\n",
    "            \"file\": i / j / \"correlation\" / Path(j + \"_corr_spearman.csv\" )\n",
    "           } for j in os.listdir(i)\n",
    "    } for i in path_results\n",
    "}\n",
    "\n",
    "file_path_metrics = {\n",
    "    str(i).split(\"/\")[-1]: {\n",
    "        j: {\n",
    "            \"file\": i / j / \"metrics\" / Path(\"metrics.csv\" )\n",
    "           } for j in os.listdir(i)\n",
    "    } for i in path_results\n",
    "}"
   ]
  },
  {
   "cell_type": "code",
   "execution_count": null,
   "id": "9a9915a7",
   "metadata": {
    "scrolled": true
   },
   "outputs": [],
   "source": [
    "data_metrics = {\n",
    "    i_random: {\n",
    "        j_name: pd.read_csv(\n",
    "            j_content[\"file\"], \n",
    "            index_col = 0\n",
    "        ) for j_name, j_content in i_content.items()\n",
    "    } for i_random, i_content in file_path_metrics.items()\n",
    "}"
   ]
  },
  {
   "cell_type": "markdown",
   "id": "9c20e9c7",
   "metadata": {},
   "source": [
    "## Generate correlations"
   ]
  },
  {
   "cell_type": "code",
   "execution_count": null,
   "id": "ef489343",
   "metadata": {
    "scrolled": true
   },
   "outputs": [],
   "source": [
    "data_corr = {}\n",
    "\n",
    "for i_random, i_content in tqdm(file_path_corr.items()):\n",
    "    data_corr[i_random] = {}\n",
    "    for j_name, j_content in tqdm(i_content.items()):\n",
    "        if j_name == \"no_structure\":\n",
    "            continue\n",
    "        \n",
    "        if not os.path.exists(j_content[\"url\"]):\n",
    "            os.makedirs(j_content[\"url\"])\n",
    "            \n",
    "        data_corr[i_random][j_name] = data_metrics[i_random][j_name].copy()\n",
    "        data_corr[i_random][j_name].dropna(inplace = True)\n",
    "        data_corr[i_random][j_name] = data_corr[i_random][j_name].corr(method = params[\"correlation_method\"])\n",
    "        data_corr[i_random][j_name].to_csv(j_content[\"file\"])"
   ]
  },
  {
   "cell_type": "code",
   "execution_count": null,
   "id": "d497d7b7",
   "metadata": {},
   "outputs": [],
   "source": [
    "for i_random, i_content in file_path_corr.items():\n",
    "    for j_name, j_content in i_content.items():\n",
    "        if \"no_structure\" in j_name:\n",
    "            continue\n",
    "        url = (\n",
    "            j_content[\"url\"] / Path(j_name + \"_corr_spearman.png\")\n",
    "        )\n",
    "        plt.figure(figsize=(15, 8))\n",
    "        sns.set(font_scale=1)\n",
    "        sns.heatmap(data_corr[i_random][j_name], annot=True, cmap=\"crest\")\n",
    "        plt.ioff()\n",
    "        plt.savefig(url)"
   ]
  },
  {
   "cell_type": "markdown",
   "id": "1f273174",
   "metadata": {},
   "source": [
    "## Generate table results"
   ]
  },
  {
   "cell_type": "code",
   "execution_count": null,
   "id": "e1b54cd7",
   "metadata": {},
   "outputs": [],
   "source": [
    "tmp = {}\n",
    "tmp_groupby = {}\n",
    "for i_random, i_content in data_corr.items():\n",
    "    tmp[i_random] = {}\n",
    "    for j_name, j_content in i_content.items():\n",
    "        tmp[i_random][j_name] = j_content.reset_index().rename(columns={\"index\": \"metrics\"})\n",
    "        tmp[i_random][j_name].insert(0, \"dataset\", [j_name] * tmp[i_random][j_name].shape[0])\n",
    "    tmp[i_random] = pd.concat(list(tmp[i_random].values()), ignore_index=True)\n",
    "    tmp[i_random] = tmp[i_random][\n",
    "        ~tmp[i_random].metrics.str.contains(\"abilities\")\n",
    "    ]  # .groupby(['dataset', 'metrics']).mean()\n",
    "    tmp_groupby[i_random] = tmp[i_random].groupby(['dataset','metrics']).mean()[['abilities']]"
   ]
  },
  {
   "cell_type": "markdown",
   "id": "0a35ce5c",
   "metadata": {},
   "source": [
    "## Correlation for each dataset with abilities"
   ]
  },
  {
   "cell_type": "code",
   "execution_count": null,
   "id": "dbe7effd",
   "metadata": {},
   "outputs": [],
   "source": [
    "data_unique = {}\n",
    "for i_random, i_content in data_corr.items():\n",
    "    data_unique[i_random] = pd.DataFrame(\n",
    "        columns = i_content.keys(),\n",
    "        index = i_content[\"aniso\"].columns[1:]\n",
    "    )"
   ]
  },
  {
   "cell_type": "code",
   "execution_count": null,
   "id": "e7361ac8",
   "metadata": {},
   "outputs": [],
   "source": [
    "data_unique = {}\n",
    "for i_random, i_content in data_corr.items():\n",
    "    data_unique[i_random] = {}\n",
    "    for j_name, j_content in i_content.items():\n",
    "        if j_name != \"no_structure\":\n",
    "            data_unique[i_random][j_name] = (\n",
    "                j_content.drop(j_content.columns[1:], axis=1)\n",
    "                .drop([\"abilities\"], axis=0)\n",
    "                .rename(columns={\"abilities\": j_name})\n",
    "            )"
   ]
  },
  {
   "cell_type": "code",
   "execution_count": null,
   "id": "750de628",
   "metadata": {},
   "outputs": [],
   "source": [
    "data_grouped = {}\n",
    "for j_random, j_content in data_unique.items():\n",
    "    data_grouped[j_random] = {}\n",
    "    for idx, (i_name, i_content) in enumerate(data_unique[j_random].items()):\n",
    "        if idx == 0:\n",
    "            data_pivot = i_content.copy()\n",
    "        else:\n",
    "            data_pivot = data_pivot.reset_index().merge(\n",
    "                i_content.reset_index(),\n",
    "                on = \"index\", \n",
    "                how = \"inner\"\n",
    "            ).rename(columns = {\"index\": None}).set_index(None)\n",
    "    data_grouped[j_random] = data_pivot.copy()"
   ]
  },
  {
   "cell_type": "code",
   "execution_count": null,
   "id": "4a47bfca",
   "metadata": {},
   "outputs": [],
   "source": [
    "for i_random, i_content in data_grouped.items():\n",
    "    data_grouped[i_random].columns = (\n",
    "        data_grouped[i_random]\n",
    "        .columns\n",
    "        .str\n",
    "        .replace(\"_\", \" \")\n",
    "        .str\n",
    "        .title()\n",
    "    )\n",
    "    data_grouped[i_random].rename(\n",
    "        index = {\n",
    "            \"v_measure\": \"$v$\",\n",
    "            \"calinski_harabasz\": \"$CH$\",\n",
    "            \"silhouette\": \"$S$\",\n",
    "            \"mutual_info\": \"$MI$\",\n",
    "            \"adjusted_rand_score\": \"$ARI$\",\n",
    "            \"davies_bouldin\": \"$DB$\"\n",
    "        },\n",
    "        inplace = True\n",
    "    )"
   ]
  },
  {
   "cell_type": "code",
   "execution_count": null,
   "id": "ef4ce6f6",
   "metadata": {
    "scrolled": true
   },
   "outputs": [],
   "source": [
    "figs_heatmap, axes = {}, {}\n",
    "for i_random, i_content in data_grouped.items():    \n",
    "    fig = plt.figure(figsize=(40, 18))\n",
    "    ax = sns.heatmap(\n",
    "        i_content,\n",
    "        annot=True,\n",
    "        cmap=\"crest\",\n",
    "        vmin=-1,\n",
    "        vmax=1,\n",
    "        annot_kws={\"size\": 28},\n",
    "    )\n",
    "    ax.set_xticklabels(ax.get_xticklabels(), fontsize=52)\n",
    "    ax.set_yticklabels(ax.get_yticklabels(), fontsize=52)\n",
    "    figs_heatmap[i_random] = fig\n",
    "    axes[i_random] = ax\n",
    "    plt.ioff()\n",
    "    fig.savefig(\n",
    "        path_outputs / Path(i_random + \"_\" + \"abilities_corr_spearman.eps\"), format=\"eps\"\n",
    "    )"
   ]
  },
  {
   "cell_type": "code",
   "execution_count": null,
   "id": "d5e65827",
   "metadata": {},
   "outputs": [],
   "source": [
    "figs_heatmap[\"random_n1\"]"
   ]
  },
  {
   "cell_type": "code",
   "execution_count": null,
   "id": "d1fdf756",
   "metadata": {},
   "outputs": [],
   "source": [
    "# for i in path_results:\n",
    "#     for j in os.listdir(i):\n",
    "#         if os.path.isfile(i / j):\n",
    "#             os.system(\"rm \"+ str(i / j))"
   ]
  }
 ],
 "metadata": {
  "jupytext": {
   "cell_metadata_filter": "-all",
   "encoding": "# coding: utf-8",
   "executable": "/usr/bin/env python",
   "main_language": "python",
   "notebook_metadata_filter": "-all"
  },
  "kernelspec": {
   "display_name": "Python 3 (ipykernel)",
   "language": "python",
   "name": "python3"
  },
  "language_info": {
   "codemirror_mode": {
    "name": "ipython",
    "version": 3
   },
   "file_extension": ".py",
   "mimetype": "text/x-python",
   "name": "python",
   "nbconvert_exporter": "python",
   "pygments_lexer": "ipython3",
   "version": "3.10.11"
  }
 },
 "nbformat": 4,
 "nbformat_minor": 5
}
