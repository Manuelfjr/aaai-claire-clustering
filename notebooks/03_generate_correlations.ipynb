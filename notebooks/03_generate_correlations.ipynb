{
 "cells": [
  {
   "cell_type": "markdown",
   "id": "bf059b3a",
   "metadata": {},
   "source": [
    "## Imports"
   ]
  },
  {
   "cell_type": "code",
   "execution_count": 1,
   "id": "37ce5ccb",
   "metadata": {},
   "outputs": [],
   "source": [
    "# utils\n",
    "import os\n",
    "import sys\n",
    "from pathlib import Path\n",
    "\n",
    "PROJECT_DIR = Path.cwd().parent\n",
    "sys.path.append(str(PROJECT_DIR))\n",
    "\n",
    "# viz\n",
    "import matplotlib.pyplot as plt\n",
    "# basics\n",
    "import numpy as np\n",
    "import pandas as pd\n",
    "import seaborn as sns\n",
    "from tqdm import tqdm\n",
    "\n",
    "# metrics\n",
    "from utils import config\n",
    "from utils.reader import read_file_yaml\n",
    "\n",
    "np.random.seed(0)"
   ]
  },
  {
   "cell_type": "markdown",
   "id": "fa63213f",
   "metadata": {},
   "source": [
    "## Reading datasets"
   ]
  },
  {
   "cell_type": "code",
   "execution_count": 2,
   "id": "61fa95d3",
   "metadata": {},
   "outputs": [],
   "source": [
    "path_outputs = PROJECT_DIR / \"outputs\"\n",
    "path_conf = PROJECT_DIR / \"conf\"\n",
    "file_path_parameters = path_conf / \"parameters.yml\"\n",
    "\n",
    "params = read_file_yaml(file_path_parameters)\n",
    "path_root = PROJECT_DIR / params[\"results\"][\"filepath\"]\n",
    "\n",
    "n_random = np.sort([int(i.replace(\"random_n\", \"\")) for i in os.listdir(path_root) if \".placehold\" not in i])[:17]\n",
    "path_random = [\"random_n\" + str(i) for i in n_random]\n",
    "path_results = [path_root / i for i in path_random]\n",
    "\n",
    "ext_type = params[\"outputs\"][\"extension_type\"]\n",
    "ext_local_img = params[\"outputs\"][\"extension_local_img\"]\n",
    "ext_best_img = params[\"outputs\"][\"extension_best_img\"]"
   ]
  },
  {
   "cell_type": "code",
   "execution_count": 3,
   "id": "96a351e4",
   "metadata": {
    "lines_to_next_cell": 2
   },
   "outputs": [],
   "source": [
    "file_path_corr = {\n",
    "    str(i).split(\"/\")[-1]: {\n",
    "        j: {\"url\": i / j / \"correlation\", \"file\": i / j / \"correlation\" / Path(j + \"_corr_spearman\" + ext_type)}\n",
    "        for j in config.file_names  # os.listdir(i)\n",
    "    }\n",
    "    for i in path_results\n",
    "}\n",
    "\n",
    "file_path_metrics = {\n",
    "    str(i).split(\"/\")[-1]: {\n",
    "        j: {\"file\": i / j / \"metrics\" / Path(\"metrics\" + ext_type)} for j in config.file_names  # os.listdir(i)\n",
    "    }\n",
    "    for i in path_results\n",
    "}"
   ]
  },
  {
   "cell_type": "code",
   "execution_count": 4,
   "id": "9a9915a7",
   "metadata": {
    "scrolled": true
   },
   "outputs": [],
   "source": [
    "data_metrics = {\n",
    "    i_random: {j_name: pd.read_csv(j_content[\"file\"], index_col=0) for j_name, j_content in i_content.items()}\n",
    "    for i_random, i_content in file_path_metrics.items()\n",
    "}"
   ]
  },
  {
   "cell_type": "markdown",
   "id": "9c20e9c7",
   "metadata": {},
   "source": [
    "## Generate correlations"
   ]
  },
  {
   "cell_type": "code",
   "execution_count": 5,
   "id": "ef489343",
   "metadata": {
    "scrolled": true
   },
   "outputs": [
    {
     "name": "stderr",
     "output_type": "stream",
     "text": [
      "  0%|                                                                                                                                                                                       | 0/17 [00:00<?, ?it/s]\n",
      "100%|███████████████████████████████████████████████████████████████████████████████████████████████████████████████████████████████████████████████████████████████████████████████| 9/9 [00:00<00:00, 755.88it/s]\u001b[A\n",
      "\n",
      "100%|███████████████████████████████████████████████████████████████████████████████████████████████████████████████████████████████████████████████████████████████████████████████| 9/9 [00:00<00:00, 966.68it/s]\u001b[A\n",
      "\n",
      "100%|███████████████████████████████████████████████████████████████████████████████████████████████████████████████████████████████████████████████████████████████████████████████| 9/9 [00:00<00:00, 973.46it/s]\u001b[A\n",
      "\n",
      "100%|███████████████████████████████████████████████████████████████████████████████████████████████████████████████████████████████████████████████████████████████████████████████| 9/9 [00:00<00:00, 966.97it/s]\u001b[A\n",
      "\n",
      "100%|███████████████████████████████████████████████████████████████████████████████████████████████████████████████████████████████████████████████████████████████████████████████| 9/9 [00:00<00:00, 959.58it/s]\u001b[A\n",
      "\n",
      "100%|███████████████████████████████████████████████████████████████████████████████████████████████████████████████████████████████████████████████████████████████████████████████| 9/9 [00:00<00:00, 980.38it/s]\u001b[A\n",
      "\n",
      "100%|███████████████████████████████████████████████████████████████████████████████████████████████████████████████████████████████████████████████████████████████████████████████| 9/9 [00:00<00:00, 959.72it/s]\u001b[A\n",
      "\n",
      "100%|███████████████████████████████████████████████████████████████████████████████████████████████████████████████████████████████████████████████████████████████████████████████| 9/9 [00:00<00:00, 956.95it/s]\u001b[A\n",
      "\n",
      "100%|███████████████████████████████████████████████████████████████████████████████████████████████████████████████████████████████████████████████████████████████████████████████| 9/9 [00:00<00:00, 960.48it/s]\u001b[A\n",
      " 53%|████████████████████████████████████████████████████████████████████████████████████████████▋                                                                                  | 9/17 [00:00<00:00, 88.97it/s]\n",
      "100%|███████████████████████████████████████████████████████████████████████████████████████████████████████████████████████████████████████████████████████████████████████████████| 9/9 [00:00<00:00, 986.59it/s]\u001b[A\n",
      "\n",
      "100%|███████████████████████████████████████████████████████████████████████████████████████████████████████████████████████████████████████████████████████████████████████████████| 9/9 [00:00<00:00, 971.93it/s]\u001b[A\n",
      "\n",
      "100%|███████████████████████████████████████████████████████████████████████████████████████████████████████████████████████████████████████████████████████████████████████████████| 9/9 [00:00<00:00, 961.21it/s]\u001b[A\n",
      "\n",
      "100%|███████████████████████████████████████████████████████████████████████████████████████████████████████████████████████████████████████████████████████████████████████████████| 9/9 [00:00<00:00, 971.13it/s]\u001b[A\n",
      "\n",
      "100%|███████████████████████████████████████████████████████████████████████████████████████████████████████████████████████████████████████████████████████████████████████████████| 9/9 [00:00<00:00, 959.79it/s]\u001b[A\n",
      "\n",
      "100%|███████████████████████████████████████████████████████████████████████████████████████████████████████████████████████████████████████████████████████████████████████████████| 9/9 [00:00<00:00, 974.04it/s]\u001b[A\n",
      "\n",
      "100%|███████████████████████████████████████████████████████████████████████████████████████████████████████████████████████████████████████████████████████████████████████████████| 9/9 [00:00<00:00, 974.39it/s]\u001b[A\n",
      "\n",
      "100%|███████████████████████████████████████████████████████████████████████████████████████████████████████████████████████████████████████████████████████████████████████████████| 9/9 [00:00<00:00, 980.08it/s]\u001b[A\n",
      "100%|██████████████████████████████████████████████████████████████████████████████████████████████████████████████████████████████████████████████████████████████████████████████| 17/17 [00:00<00:00, 90.20it/s]\n"
     ]
    }
   ],
   "source": [
    "data_corr = {}\n",
    "\n",
    "for i_random, i_content in tqdm(file_path_corr.items()):\n",
    "    data_corr[i_random] = {}\n",
    "    for j_name, j_content in tqdm(i_content.items()):\n",
    "        if j_name == \"no_structure\":\n",
    "            continue\n",
    "\n",
    "        if not os.path.exists(j_content[\"url\"]):\n",
    "            os.makedirs(j_content[\"url\"])\n",
    "\n",
    "        data_corr[i_random][j_name] = data_metrics[i_random][j_name].copy()\n",
    "        data_corr[i_random][j_name].dropna(inplace=True)\n",
    "        data_corr[i_random][j_name] = data_corr[i_random][j_name].corr(method=params[\"correlation_method\"])\n",
    "        data_corr[i_random][j_name].to_csv(j_content[\"file\"])"
   ]
  },
  {
   "cell_type": "code",
   "execution_count": 13,
   "id": "d497d7b7",
   "metadata": {
    "scrolled": true
   },
   "outputs": [
    {
     "name": "stderr",
     "output_type": "stream",
     "text": [
      "/tmp/ipykernel_1822876/3680651052.py:6: RuntimeWarning: More than 20 figures have been opened. Figures created through the pyplot interface (`matplotlib.pyplot.figure`) are retained until explicitly closed and may consume too much memory. (To control this warning, see the rcParam `figure.max_open_warning`). Consider using `matplotlib.pyplot.close()`.\n",
      "  figure = plt.figure(figsize=(15, 8))\n"
     ]
    }
   ],
   "source": [
    "for i_random, i_content in list(file_path_corr.items()):\n",
    "    for j_name, j_content in i_content.items():\n",
    "        if \"no_structure\" in j_name:\n",
    "            continue\n",
    "        url = j_content[\"url\"] / Path(j_name + \"_corr_spearman\" + ext_local_img)\n",
    "        figure = plt.figure(figsize=(15, 8))\n",
    "        sns.set(font_scale=1)\n",
    "        sns.heatmap(data_corr[i_random][j_name], annot=True, cmap=\"crest\")\n",
    "        plt.ioff()\n",
    "        plt.savefig(url)"
   ]
  },
  {
   "cell_type": "markdown",
   "id": "1f273174",
   "metadata": {},
   "source": [
    "## Generate table results"
   ]
  },
  {
   "cell_type": "code",
   "execution_count": 6,
   "id": "e1b54cd7",
   "metadata": {},
   "outputs": [],
   "source": [
    "tmp = {}\n",
    "tmp_groupby = {}\n",
    "for i_random, i_content in data_corr.items():\n",
    "    tmp[i_random] = {}\n",
    "    for j_name, j_content in i_content.items():\n",
    "        tmp[i_random][j_name] = j_content.reset_index().rename(columns={\"index\": \"metrics\"})\n",
    "        tmp[i_random][j_name].insert(0, \"dataset\", [j_name] * tmp[i_random][j_name].shape[0])\n",
    "    tmp[i_random] = pd.concat(list(tmp[i_random].values()), ignore_index=True)\n",
    "    tmp[i_random] = tmp[i_random][\n",
    "        ~tmp[i_random].metrics.str.contains(\"abilities\")\n",
    "    ]  # .groupby(['dataset', 'metrics']).mean()\n",
    "    tmp_groupby[i_random] = tmp[i_random].groupby([\"dataset\", \"metrics\"]).mean()[[\"abilities\"]]"
   ]
  },
  {
   "cell_type": "markdown",
   "id": "0a35ce5c",
   "metadata": {},
   "source": [
    "## Correlation for each dataset with abilities"
   ]
  },
  {
   "cell_type": "code",
   "execution_count": 7,
   "id": "dbe7effd",
   "metadata": {},
   "outputs": [],
   "source": [
    "data_unique = {}\n",
    "for i_random, i_content in data_corr.items():\n",
    "    first = list(i_content.keys())[0]\n",
    "    data_unique[i_random] = pd.DataFrame(columns=i_content.keys(), index=i_content[first].columns[1:])"
   ]
  },
  {
   "cell_type": "code",
   "execution_count": 8,
   "id": "e7361ac8",
   "metadata": {},
   "outputs": [],
   "source": [
    "data_unique = {}\n",
    "for i_random, i_content in data_corr.items():\n",
    "    data_unique[i_random] = {}\n",
    "    for j_name, j_content in i_content.items():\n",
    "        if j_name != \"no_structure\":\n",
    "            data_unique[i_random][j_name] = (\n",
    "                j_content.drop(j_content.columns[1:], axis=1)\n",
    "                .drop([\"abilities\"], axis=0)\n",
    "                .rename(columns={\"abilities\": j_name})\n",
    "            )"
   ]
  },
  {
   "cell_type": "code",
   "execution_count": 9,
   "id": "750de628",
   "metadata": {},
   "outputs": [],
   "source": [
    "data_grouped = {}\n",
    "for j_random, j_content in data_unique.items():\n",
    "    data_grouped[j_random] = {}\n",
    "    for idx, (i_name, i_content) in enumerate(data_unique[j_random].items()):\n",
    "        if idx == 0:\n",
    "            data_pivot = i_content.copy()\n",
    "        else:\n",
    "            data_pivot = (\n",
    "                data_pivot.reset_index()\n",
    "                .merge(i_content.reset_index(), on=\"index\", how=\"inner\")\n",
    "                .rename(columns={\"index\": None})\n",
    "                .set_index(None)\n",
    "            )\n",
    "    data_grouped[j_random] = data_pivot.copy()"
   ]
  },
  {
   "cell_type": "code",
   "execution_count": 10,
   "id": "4a47bfca",
   "metadata": {},
   "outputs": [],
   "source": [
    "for i_random, i_content in data_grouped.items():\n",
    "    data_grouped[i_random].columns = data_grouped[i_random].columns.str.replace(\"_\", \" \").str.title()\n",
    "    data_grouped[i_random].rename(\n",
    "        index={\n",
    "            \"v_measure\": \"$v$\",\n",
    "            \"calinski_harabasz\": \"$CH$\",\n",
    "            \"silhouette\": \"$S$\",\n",
    "            \"mutual_info\": \"$MI$\",\n",
    "            \"adjusted_rand_score\": \"$ARI$\",\n",
    "            \"davies_bouldin\": \"$DB$\",\n",
    "        },\n",
    "        inplace=True,\n",
    "    )"
   ]
  },
  {
   "cell_type": "code",
   "execution_count": 12,
   "id": "ef4ce6f6",
   "metadata": {
    "scrolled": true
   },
   "outputs": [
    {
     "name": "stderr",
     "output_type": "stream",
     "text": [
      "100%|██████████████████████████████████████████████████████████████████████████████████████████████████████████████████████████████████████████████████████████████████████████████| 17/17 [00:09<00:00,  1.78it/s]\n"
     ]
    }
   ],
   "source": [
    "figs_heatmap, axes = {}, {}\n",
    "for i_random, i_content in tqdm(list(data_grouped.items())):\n",
    "    fig = plt.figure(figsize=((40 / 6) * len(config.file_names), 20))\n",
    "    ax = sns.heatmap(\n",
    "        i_content,\n",
    "        annot=True,\n",
    "        cmap=\"crest\",\n",
    "        vmin=-1,\n",
    "        vmax=1,\n",
    "        annot_kws={\"size\": 45},\n",
    "    )\n",
    "    ax.set_xticklabels(ax.get_xticklabels(), fontsize=52)\n",
    "    ax.set_yticklabels(ax.get_yticklabels(), fontsize=52)\n",
    "    figs_heatmap[i_random] = fig\n",
    "    axes[i_random] = ax\n",
    "    plt.ioff()\n",
    "    fig.savefig(\n",
    "        path_outputs / Path(i_random + \"_\" + \"abilities_corr_spearman\" + ext_best_img), format=ext_best_img[1:]\n",
    "    )  # best format\n",
    "    fig.savefig(\n",
    "        path_outputs / Path(i_random + \"_\" + \"abilities_corr_spearman\" + ext_local_img), format=ext_local_img[1:]\n",
    "    )  # local format"
   ]
  },
  {
   "cell_type": "code",
   "execution_count": null,
   "id": "dcdc81bc",
   "metadata": {},
   "outputs": [],
   "source": []
  },
  {
   "cell_type": "code",
   "execution_count": null,
   "id": "41b9d634-d8db-412b-8e8f-40d9037f6b93",
   "metadata": {},
   "outputs": [],
   "source": []
  }
 ],
 "metadata": {
  "jupytext": {
   "cell_metadata_filter": "-all",
   "encoding": "# coding: utf-8",
   "executable": "/usr/bin/env python",
   "main_language": "python",
   "notebook_metadata_filter": "-all"
  },
  "kernelspec": {
   "display_name": "Python 3 (ipykernel)",
   "language": "python",
   "name": "python3"
  },
  "language_info": {
   "codemirror_mode": {
    "name": "ipython",
    "version": 3
   },
   "file_extension": ".py",
   "mimetype": "text/x-python",
   "name": "python",
   "nbconvert_exporter": "python",
   "pygments_lexer": "ipython3",
   "version": "3.10.12"
  }
 },
 "nbformat": 4,
 "nbformat_minor": 5
}
